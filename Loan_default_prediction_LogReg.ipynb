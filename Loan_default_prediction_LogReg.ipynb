{
  "cells": [
    {
      "cell_type": "code",
      "execution_count": 55,
      "id": "14ee7c7e",
      "metadata": {
        "id": "14ee7c7e"
      },
      "outputs": [],
      "source": [
        "#Business Goal:\n",
        "#Build a Predictive model to Classify if a business would 'Default' a loan or not"
      ]
    },
    {
      "cell_type": "code",
      "execution_count": 56,
      "id": "d8f8fa06",
      "metadata": {
        "id": "d8f8fa06"
      },
      "outputs": [],
      "source": [
        "import pandas as pd\n",
        "raw_df=pd.read_excel('/content/loan.xlsx')"
      ]
    },
    {
      "cell_type": "code",
      "execution_count": 57,
      "id": "a20cb427",
      "metadata": {
        "colab": {
          "base_uri": "https://localhost:8080/"
        },
        "id": "a20cb427",
        "outputId": "f43263ba-b080-4a53-8078-89d35414cdcd"
      },
      "outputs": [
        {
          "output_type": "stream",
          "name": "stdout",
          "text": [
            "<class 'pandas.core.frame.DataFrame'>\n",
            "RangeIndex: 2096 entries, 0 to 2095\n",
            "Data columns (total 11 columns):\n",
            " #   Column             Non-Null Count  Dtype  \n",
            "---  ------             --------------  -----  \n",
            " 0   Zip                2096 non-null   int64  \n",
            " 1   BankState          2096 non-null   object \n",
            " 2   NoEmp              2096 non-null   int64  \n",
            " 3   CreateJob          2096 non-null   int64  \n",
            " 4   UrbanRural         2096 non-null   object \n",
            " 5   DisbursementGross  2096 non-null   int64  \n",
            " 6   New                2096 non-null   int64  \n",
            " 7   RealEstate         2096 non-null   int64  \n",
            " 8   Portion            2096 non-null   float64\n",
            " 9   Recession          2096 non-null   int64  \n",
            " 10  Default            2096 non-null   int64  \n",
            "dtypes: float64(1), int64(8), object(2)\n",
            "memory usage: 180.2+ KB\n"
          ]
        }
      ],
      "source": [
        "raw_df.info()"
      ]
    },
    {
      "cell_type": "code",
      "execution_count": 58,
      "id": "7c2cc9ca",
      "metadata": {
        "colab": {
          "base_uri": "https://localhost:8080/",
          "height": 226
        },
        "id": "7c2cc9ca",
        "outputId": "e77f3edd-4773-4e78-d9fb-2c6b49c552b6"
      },
      "outputs": [
        {
          "output_type": "execute_result",
          "data": {
            "text/plain": [
              "     Zip BankState  NoEmp  CreateJob UrbanRural  DisbursementGross  New  \\\n",
              "0  90505        CA      1          0  UNDEFINED              30000    0   \n",
              "1  94583        NC      4          0      URBAN              17500    1   \n",
              "2  94103        NC      1          0      URBAN              17536    0   \n",
              "3  91354        IL      2          0      RURAL              30000    1   \n",
              "4  95965        NC      8          0      URBAN              30502    0   \n",
              "\n",
              "   RealEstate  Portion  Recession  Default  \n",
              "0           0      0.5          1        0  \n",
              "1           0      0.5          0        0  \n",
              "2           0      0.5          0        0  \n",
              "3           0      0.5          0        1  \n",
              "4           0      0.5          0        0  "
            ],
            "text/html": [
              "\n",
              "  <div id=\"df-4b65f12c-5e81-4390-8342-8597b1865934\" class=\"colab-df-container\">\n",
              "    <div>\n",
              "<style scoped>\n",
              "    .dataframe tbody tr th:only-of-type {\n",
              "        vertical-align: middle;\n",
              "    }\n",
              "\n",
              "    .dataframe tbody tr th {\n",
              "        vertical-align: top;\n",
              "    }\n",
              "\n",
              "    .dataframe thead th {\n",
              "        text-align: right;\n",
              "    }\n",
              "</style>\n",
              "<table border=\"1\" class=\"dataframe\">\n",
              "  <thead>\n",
              "    <tr style=\"text-align: right;\">\n",
              "      <th></th>\n",
              "      <th>Zip</th>\n",
              "      <th>BankState</th>\n",
              "      <th>NoEmp</th>\n",
              "      <th>CreateJob</th>\n",
              "      <th>UrbanRural</th>\n",
              "      <th>DisbursementGross</th>\n",
              "      <th>New</th>\n",
              "      <th>RealEstate</th>\n",
              "      <th>Portion</th>\n",
              "      <th>Recession</th>\n",
              "      <th>Default</th>\n",
              "    </tr>\n",
              "  </thead>\n",
              "  <tbody>\n",
              "    <tr>\n",
              "      <th>0</th>\n",
              "      <td>90505</td>\n",
              "      <td>CA</td>\n",
              "      <td>1</td>\n",
              "      <td>0</td>\n",
              "      <td>UNDEFINED</td>\n",
              "      <td>30000</td>\n",
              "      <td>0</td>\n",
              "      <td>0</td>\n",
              "      <td>0.5</td>\n",
              "      <td>1</td>\n",
              "      <td>0</td>\n",
              "    </tr>\n",
              "    <tr>\n",
              "      <th>1</th>\n",
              "      <td>94583</td>\n",
              "      <td>NC</td>\n",
              "      <td>4</td>\n",
              "      <td>0</td>\n",
              "      <td>URBAN</td>\n",
              "      <td>17500</td>\n",
              "      <td>1</td>\n",
              "      <td>0</td>\n",
              "      <td>0.5</td>\n",
              "      <td>0</td>\n",
              "      <td>0</td>\n",
              "    </tr>\n",
              "    <tr>\n",
              "      <th>2</th>\n",
              "      <td>94103</td>\n",
              "      <td>NC</td>\n",
              "      <td>1</td>\n",
              "      <td>0</td>\n",
              "      <td>URBAN</td>\n",
              "      <td>17536</td>\n",
              "      <td>0</td>\n",
              "      <td>0</td>\n",
              "      <td>0.5</td>\n",
              "      <td>0</td>\n",
              "      <td>0</td>\n",
              "    </tr>\n",
              "    <tr>\n",
              "      <th>3</th>\n",
              "      <td>91354</td>\n",
              "      <td>IL</td>\n",
              "      <td>2</td>\n",
              "      <td>0</td>\n",
              "      <td>RURAL</td>\n",
              "      <td>30000</td>\n",
              "      <td>1</td>\n",
              "      <td>0</td>\n",
              "      <td>0.5</td>\n",
              "      <td>0</td>\n",
              "      <td>1</td>\n",
              "    </tr>\n",
              "    <tr>\n",
              "      <th>4</th>\n",
              "      <td>95965</td>\n",
              "      <td>NC</td>\n",
              "      <td>8</td>\n",
              "      <td>0</td>\n",
              "      <td>URBAN</td>\n",
              "      <td>30502</td>\n",
              "      <td>0</td>\n",
              "      <td>0</td>\n",
              "      <td>0.5</td>\n",
              "      <td>0</td>\n",
              "      <td>0</td>\n",
              "    </tr>\n",
              "  </tbody>\n",
              "</table>\n",
              "</div>\n",
              "    <div class=\"colab-df-buttons\">\n",
              "\n",
              "  <div class=\"colab-df-container\">\n",
              "    <button class=\"colab-df-convert\" onclick=\"convertToInteractive('df-4b65f12c-5e81-4390-8342-8597b1865934')\"\n",
              "            title=\"Convert this dataframe to an interactive table.\"\n",
              "            style=\"display:none;\">\n",
              "\n",
              "  <svg xmlns=\"http://www.w3.org/2000/svg\" height=\"24px\" viewBox=\"0 -960 960 960\">\n",
              "    <path d=\"M120-120v-720h720v720H120Zm60-500h600v-160H180v160Zm220 220h160v-160H400v160Zm0 220h160v-160H400v160ZM180-400h160v-160H180v160Zm440 0h160v-160H620v160ZM180-180h160v-160H180v160Zm440 0h160v-160H620v160Z\"/>\n",
              "  </svg>\n",
              "    </button>\n",
              "\n",
              "  <style>\n",
              "    .colab-df-container {\n",
              "      display:flex;\n",
              "      gap: 12px;\n",
              "    }\n",
              "\n",
              "    .colab-df-convert {\n",
              "      background-color: #E8F0FE;\n",
              "      border: none;\n",
              "      border-radius: 50%;\n",
              "      cursor: pointer;\n",
              "      display: none;\n",
              "      fill: #1967D2;\n",
              "      height: 32px;\n",
              "      padding: 0 0 0 0;\n",
              "      width: 32px;\n",
              "    }\n",
              "\n",
              "    .colab-df-convert:hover {\n",
              "      background-color: #E2EBFA;\n",
              "      box-shadow: 0px 1px 2px rgba(60, 64, 67, 0.3), 0px 1px 3px 1px rgba(60, 64, 67, 0.15);\n",
              "      fill: #174EA6;\n",
              "    }\n",
              "\n",
              "    .colab-df-buttons div {\n",
              "      margin-bottom: 4px;\n",
              "    }\n",
              "\n",
              "    [theme=dark] .colab-df-convert {\n",
              "      background-color: #3B4455;\n",
              "      fill: #D2E3FC;\n",
              "    }\n",
              "\n",
              "    [theme=dark] .colab-df-convert:hover {\n",
              "      background-color: #434B5C;\n",
              "      box-shadow: 0px 1px 3px 1px rgba(0, 0, 0, 0.15);\n",
              "      filter: drop-shadow(0px 1px 2px rgba(0, 0, 0, 0.3));\n",
              "      fill: #FFFFFF;\n",
              "    }\n",
              "  </style>\n",
              "\n",
              "    <script>\n",
              "      const buttonEl =\n",
              "        document.querySelector('#df-4b65f12c-5e81-4390-8342-8597b1865934 button.colab-df-convert');\n",
              "      buttonEl.style.display =\n",
              "        google.colab.kernel.accessAllowed ? 'block' : 'none';\n",
              "\n",
              "      async function convertToInteractive(key) {\n",
              "        const element = document.querySelector('#df-4b65f12c-5e81-4390-8342-8597b1865934');\n",
              "        const dataTable =\n",
              "          await google.colab.kernel.invokeFunction('convertToInteractive',\n",
              "                                                    [key], {});\n",
              "        if (!dataTable) return;\n",
              "\n",
              "        const docLinkHtml = 'Like what you see? Visit the ' +\n",
              "          '<a target=\"_blank\" href=https://colab.research.google.com/notebooks/data_table.ipynb>data table notebook</a>'\n",
              "          + ' to learn more about interactive tables.';\n",
              "        element.innerHTML = '';\n",
              "        dataTable['output_type'] = 'display_data';\n",
              "        await google.colab.output.renderOutput(dataTable, element);\n",
              "        const docLink = document.createElement('div');\n",
              "        docLink.innerHTML = docLinkHtml;\n",
              "        element.appendChild(docLink);\n",
              "      }\n",
              "    </script>\n",
              "  </div>\n",
              "\n",
              "\n",
              "<div id=\"df-18e7efb3-9505-45a7-9321-b1c394291d6a\">\n",
              "  <button class=\"colab-df-quickchart\" onclick=\"quickchart('df-18e7efb3-9505-45a7-9321-b1c394291d6a')\"\n",
              "            title=\"Suggest charts\"\n",
              "            style=\"display:none;\">\n",
              "\n",
              "<svg xmlns=\"http://www.w3.org/2000/svg\" height=\"24px\"viewBox=\"0 0 24 24\"\n",
              "     width=\"24px\">\n",
              "    <g>\n",
              "        <path d=\"M19 3H5c-1.1 0-2 .9-2 2v14c0 1.1.9 2 2 2h14c1.1 0 2-.9 2-2V5c0-1.1-.9-2-2-2zM9 17H7v-7h2v7zm4 0h-2V7h2v10zm4 0h-2v-4h2v4z\"/>\n",
              "    </g>\n",
              "</svg>\n",
              "  </button>\n",
              "\n",
              "<style>\n",
              "  .colab-df-quickchart {\n",
              "      --bg-color: #E8F0FE;\n",
              "      --fill-color: #1967D2;\n",
              "      --hover-bg-color: #E2EBFA;\n",
              "      --hover-fill-color: #174EA6;\n",
              "      --disabled-fill-color: #AAA;\n",
              "      --disabled-bg-color: #DDD;\n",
              "  }\n",
              "\n",
              "  [theme=dark] .colab-df-quickchart {\n",
              "      --bg-color: #3B4455;\n",
              "      --fill-color: #D2E3FC;\n",
              "      --hover-bg-color: #434B5C;\n",
              "      --hover-fill-color: #FFFFFF;\n",
              "      --disabled-bg-color: #3B4455;\n",
              "      --disabled-fill-color: #666;\n",
              "  }\n",
              "\n",
              "  .colab-df-quickchart {\n",
              "    background-color: var(--bg-color);\n",
              "    border: none;\n",
              "    border-radius: 50%;\n",
              "    cursor: pointer;\n",
              "    display: none;\n",
              "    fill: var(--fill-color);\n",
              "    height: 32px;\n",
              "    padding: 0;\n",
              "    width: 32px;\n",
              "  }\n",
              "\n",
              "  .colab-df-quickchart:hover {\n",
              "    background-color: var(--hover-bg-color);\n",
              "    box-shadow: 0 1px 2px rgba(60, 64, 67, 0.3), 0 1px 3px 1px rgba(60, 64, 67, 0.15);\n",
              "    fill: var(--button-hover-fill-color);\n",
              "  }\n",
              "\n",
              "  .colab-df-quickchart-complete:disabled,\n",
              "  .colab-df-quickchart-complete:disabled:hover {\n",
              "    background-color: var(--disabled-bg-color);\n",
              "    fill: var(--disabled-fill-color);\n",
              "    box-shadow: none;\n",
              "  }\n",
              "\n",
              "  .colab-df-spinner {\n",
              "    border: 2px solid var(--fill-color);\n",
              "    border-color: transparent;\n",
              "    border-bottom-color: var(--fill-color);\n",
              "    animation:\n",
              "      spin 1s steps(1) infinite;\n",
              "  }\n",
              "\n",
              "  @keyframes spin {\n",
              "    0% {\n",
              "      border-color: transparent;\n",
              "      border-bottom-color: var(--fill-color);\n",
              "      border-left-color: var(--fill-color);\n",
              "    }\n",
              "    20% {\n",
              "      border-color: transparent;\n",
              "      border-left-color: var(--fill-color);\n",
              "      border-top-color: var(--fill-color);\n",
              "    }\n",
              "    30% {\n",
              "      border-color: transparent;\n",
              "      border-left-color: var(--fill-color);\n",
              "      border-top-color: var(--fill-color);\n",
              "      border-right-color: var(--fill-color);\n",
              "    }\n",
              "    40% {\n",
              "      border-color: transparent;\n",
              "      border-right-color: var(--fill-color);\n",
              "      border-top-color: var(--fill-color);\n",
              "    }\n",
              "    60% {\n",
              "      border-color: transparent;\n",
              "      border-right-color: var(--fill-color);\n",
              "    }\n",
              "    80% {\n",
              "      border-color: transparent;\n",
              "      border-right-color: var(--fill-color);\n",
              "      border-bottom-color: var(--fill-color);\n",
              "    }\n",
              "    90% {\n",
              "      border-color: transparent;\n",
              "      border-bottom-color: var(--fill-color);\n",
              "    }\n",
              "  }\n",
              "</style>\n",
              "\n",
              "  <script>\n",
              "    async function quickchart(key) {\n",
              "      const quickchartButtonEl =\n",
              "        document.querySelector('#' + key + ' button');\n",
              "      quickchartButtonEl.disabled = true;  // To prevent multiple clicks.\n",
              "      quickchartButtonEl.classList.add('colab-df-spinner');\n",
              "      try {\n",
              "        const charts = await google.colab.kernel.invokeFunction(\n",
              "            'suggestCharts', [key], {});\n",
              "      } catch (error) {\n",
              "        console.error('Error during call to suggestCharts:', error);\n",
              "      }\n",
              "      quickchartButtonEl.classList.remove('colab-df-spinner');\n",
              "      quickchartButtonEl.classList.add('colab-df-quickchart-complete');\n",
              "    }\n",
              "    (() => {\n",
              "      let quickchartButtonEl =\n",
              "        document.querySelector('#df-18e7efb3-9505-45a7-9321-b1c394291d6a button');\n",
              "      quickchartButtonEl.style.display =\n",
              "        google.colab.kernel.accessAllowed ? 'block' : 'none';\n",
              "    })();\n",
              "  </script>\n",
              "</div>\n",
              "\n",
              "    </div>\n",
              "  </div>\n"
            ],
            "application/vnd.google.colaboratory.intrinsic+json": {
              "type": "dataframe",
              "variable_name": "raw_df",
              "summary": "{\n  \"name\": \"raw_df\",\n  \"rows\": 2096,\n  \"fields\": [\n    {\n      \"column\": \"Zip\",\n      \"properties\": {\n        \"dtype\": \"number\",\n        \"std\": 1878,\n        \"min\": 65757,\n        \"max\": 96161,\n        \"num_unique_values\": 812,\n        \"samples\": [\n          90019,\n          94619,\n          91101\n        ],\n        \"semantic_type\": \"\",\n        \"description\": \"\"\n      }\n    },\n    {\n      \"column\": \"BankState\",\n      \"properties\": {\n        \"dtype\": \"category\",\n        \"num_unique_values\": 21,\n        \"samples\": [\n          \"CA\",\n          \"AZ\",\n          \"MO\"\n        ],\n        \"semantic_type\": \"\",\n        \"description\": \"\"\n      }\n    },\n    {\n      \"column\": \"NoEmp\",\n      \"properties\": {\n        \"dtype\": \"number\",\n        \"std\": 34,\n        \"min\": 0,\n        \"max\": 650,\n        \"num_unique_values\": 83,\n        \"samples\": [\n          50,\n          1,\n          0\n        ],\n        \"semantic_type\": \"\",\n        \"description\": \"\"\n      }\n    },\n    {\n      \"column\": \"CreateJob\",\n      \"properties\": {\n        \"dtype\": \"number\",\n        \"std\": 8,\n        \"min\": 0,\n        \"max\": 130,\n        \"num_unique_values\": 43,\n        \"samples\": [\n          30,\n          35,\n          17\n        ],\n        \"semantic_type\": \"\",\n        \"description\": \"\"\n      }\n    },\n    {\n      \"column\": \"UrbanRural\",\n      \"properties\": {\n        \"dtype\": \"category\",\n        \"num_unique_values\": 3,\n        \"samples\": [\n          \"UNDEFINED\",\n          \"URBAN\",\n          \"RURAL\"\n        ],\n        \"semantic_type\": \"\",\n        \"description\": \"\"\n      }\n    },\n    {\n      \"column\": \"DisbursementGross\",\n      \"properties\": {\n        \"dtype\": \"number\",\n        \"std\": 338616,\n        \"min\": 4835,\n        \"max\": 2315000,\n        \"num_unique_values\": 1181,\n        \"samples\": [\n          10215,\n          193000,\n          18063\n        ],\n        \"semantic_type\": \"\",\n        \"description\": \"\"\n      }\n    },\n    {\n      \"column\": \"New\",\n      \"properties\": {\n        \"dtype\": \"number\",\n        \"std\": 0,\n        \"min\": 0,\n        \"max\": 1,\n        \"num_unique_values\": 2,\n        \"samples\": [\n          1,\n          0\n        ],\n        \"semantic_type\": \"\",\n        \"description\": \"\"\n      }\n    },\n    {\n      \"column\": \"RealEstate\",\n      \"properties\": {\n        \"dtype\": \"number\",\n        \"std\": 0,\n        \"min\": 0,\n        \"max\": 1,\n        \"num_unique_values\": 2,\n        \"samples\": [\n          1,\n          0\n        ],\n        \"semantic_type\": \"\",\n        \"description\": \"\"\n      }\n    },\n    {\n      \"column\": \"Portion\",\n      \"properties\": {\n        \"dtype\": \"number\",\n        \"std\": 0.18642127032806868,\n        \"min\": 0.29677,\n        \"max\": 1.0,\n        \"num_unique_values\": 30,\n        \"samples\": [\n          0.847,\n          0.7\n        ],\n        \"semantic_type\": \"\",\n        \"description\": \"\"\n      }\n    },\n    {\n      \"column\": \"Recession\",\n      \"properties\": {\n        \"dtype\": \"number\",\n        \"std\": 0,\n        \"min\": 0,\n        \"max\": 1,\n        \"num_unique_values\": 2,\n        \"samples\": [\n          0,\n          1\n        ],\n        \"semantic_type\": \"\",\n        \"description\": \"\"\n      }\n    },\n    {\n      \"column\": \"Default\",\n      \"properties\": {\n        \"dtype\": \"number\",\n        \"std\": 0,\n        \"min\": 0,\n        \"max\": 1,\n        \"num_unique_values\": 2,\n        \"samples\": [\n          1,\n          0\n        ],\n        \"semantic_type\": \"\",\n        \"description\": \"\"\n      }\n    }\n  ]\n}"
            }
          },
          "metadata": {},
          "execution_count": 58
        }
      ],
      "source": [
        "raw_df.head()"
      ]
    },
    {
      "cell_type": "code",
      "execution_count": 59,
      "id": "3438b582",
      "metadata": {
        "colab": {
          "base_uri": "https://localhost:8080/"
        },
        "id": "3438b582",
        "outputId": "0eb5cdaa-7696-4aba-d7c7-91981be626f2"
      },
      "outputs": [
        {
          "output_type": "stream",
          "name": "stdout",
          "text": [
            "<class 'pandas.core.series.Series'>\n",
            "RangeIndex: 2096 entries, 0 to 2095\n",
            "Series name: Default\n",
            "Non-Null Count  Dtype   \n",
            "--------------  -----   \n",
            "2096 non-null   category\n",
            "dtypes: category(1)\n",
            "memory usage: 2.3 KB\n",
            "None\n"
          ]
        }
      ],
      "source": [
        "##------------------------------------------\n",
        "##  Identify the Class Label or Y variable\n",
        "##------------------------------------------\n",
        "Y = raw_df.Default.astype('category')\n",
        "\n",
        "print(Y.info())"
      ]
    },
    {
      "cell_type": "code",
      "source": [
        "raw_df.columns"
      ],
      "metadata": {
        "colab": {
          "base_uri": "https://localhost:8080/"
        },
        "id": "lKzMdtjmFIl2",
        "outputId": "d0438989-bcbd-4610-b399-b25f10a388dd"
      },
      "id": "lKzMdtjmFIl2",
      "execution_count": 60,
      "outputs": [
        {
          "output_type": "execute_result",
          "data": {
            "text/plain": [
              "Index(['Zip', 'BankState', 'NoEmp', 'CreateJob', 'UrbanRural',\n",
              "       'DisbursementGross', 'New', 'RealEstate', 'Portion', 'Recession',\n",
              "       'Default'],\n",
              "      dtype='object')"
            ]
          },
          "metadata": {},
          "execution_count": 60
        }
      ]
    },
    {
      "cell_type": "code",
      "execution_count": 61,
      "id": "53b19ac4",
      "metadata": {
        "id": "53b19ac4"
      },
      "outputs": [],
      "source": [
        "##-------------------------------------------------------------------\n",
        "##  Select the Predictor Variables into a list called X_features\n",
        "##--------------------------------------------------------------------\n",
        "X_features = list( raw_df.columns )\n",
        "X_features.remove( 'Default' )\n",
        "X_features.remove( 'Zip' )\n",
        "X_features.remove( 'BankState' )"
      ]
    },
    {
      "cell_type": "code",
      "source": [],
      "metadata": {
        "id": "jkJDMt_zRhJD"
      },
      "id": "jkJDMt_zRhJD",
      "execution_count": null,
      "outputs": []
    },
    {
      "cell_type": "code",
      "source": [],
      "metadata": {
        "id": "neYe08yaRhOf"
      },
      "id": "neYe08yaRhOf",
      "execution_count": null,
      "outputs": []
    },
    {
      "cell_type": "code",
      "execution_count": 62,
      "id": "00d1a85a",
      "metadata": {
        "colab": {
          "base_uri": "https://localhost:8080/"
        },
        "id": "00d1a85a",
        "outputId": "e3cfc21c-38f9-4b7e-c20d-779dd0ccb156"
      },
      "outputs": [
        {
          "output_type": "stream",
          "name": "stdout",
          "text": [
            "['NoEmp', 'CreateJob', 'UrbanRural', 'DisbursementGross', 'New', 'RealEstate', 'Portion', 'Recession']\n"
          ]
        }
      ],
      "source": [
        "print(X_features)"
      ]
    },
    {
      "cell_type": "code",
      "execution_count": 63,
      "id": "4889d18e",
      "metadata": {
        "id": "4889d18e"
      },
      "outputs": [],
      "source": [
        "##------------------------------------------\n",
        "##  Set up a dataframe with only X-variables\n",
        "##------------------------------------------\n",
        "X =  raw_df[X_features]"
      ]
    },
    {
      "cell_type": "code",
      "execution_count": 64,
      "id": "cc83d799",
      "metadata": {
        "colab": {
          "base_uri": "https://localhost:8080/"
        },
        "id": "cc83d799",
        "outputId": "cab24f2f-513b-4178-c05e-09779e58670b"
      },
      "outputs": [
        {
          "output_type": "stream",
          "name": "stdout",
          "text": [
            "<class 'pandas.core.series.Series'>\n",
            "Index: 1467 entries, 1105 to 951\n",
            "Series name: Default\n",
            "Non-Null Count  Dtype   \n",
            "--------------  -----   \n",
            "1467 non-null   category\n",
            "dtypes: category(1)\n",
            "memory usage: 13.0 KB\n",
            "None\n"
          ]
        }
      ],
      "source": [
        "##-----------------------------------------\n",
        "##  Split the Data into Training and Test\n",
        "##  test size=0.3 indicates 70% training and\n",
        "##  30% test data\n",
        "##-----------------------------------------\n",
        "from sklearn.model_selection import train_test_split\n",
        "X_train, X_test, y_train, y_test = train_test_split(X,\n",
        "Y,\n",
        "test_size = 0.3,\n",
        "random_state = 500)\n",
        "print(y_train.info())\n",
        "\n",
        "##############################################################################\n",
        "##  All data processing should be done after split to prevent data leakage  ##\n",
        "##############################################################################"
      ]
    },
    {
      "cell_type": "code",
      "source": [
        "X.select_dtypes(include='object').columns"
      ],
      "metadata": {
        "colab": {
          "base_uri": "https://localhost:8080/"
        },
        "id": "2qxcJXFesaqL",
        "outputId": "20134e22-8751-4c68-dac2-d7f14abaf0a9"
      },
      "id": "2qxcJXFesaqL",
      "execution_count": 65,
      "outputs": [
        {
          "output_type": "execute_result",
          "data": {
            "text/plain": [
              "Index(['UrbanRural'], dtype='object')"
            ]
          },
          "metadata": {},
          "execution_count": 65
        }
      ]
    },
    {
      "cell_type": "code",
      "execution_count": 66,
      "id": "2430d73c",
      "metadata": {
        "id": "2430d73c"
      },
      "outputs": [],
      "source": [
        "##############################################################################\n",
        "##  Pre-process X-vars   ##\n",
        "##############################################################################\n",
        "\n",
        "##-----------------------------------------------------------------------\n",
        "##  1. Identify and dummy code (one-hot encoding) the categorical column\n",
        "##-----------------------------------------------------------------------\n",
        "# List of categorical columns\n",
        "categorical_columns = ['UrbanRural']\n",
        "X_train_encoded = pd.get_dummies(X_train, columns=categorical_columns,drop_first = True,dtype=int )\n",
        "X_test_encoded = pd.get_dummies(X_test, columns=categorical_columns,drop_first = True ,dtype=int)\n",
        "\n"
      ]
    },
    {
      "cell_type": "code",
      "execution_count": 67,
      "id": "b8c90cb7",
      "metadata": {
        "colab": {
          "base_uri": "https://localhost:8080/"
        },
        "id": "b8c90cb7",
        "outputId": "f654b5ad-979b-42c7-cff6-941cee9d7b67"
      },
      "outputs": [
        {
          "output_type": "stream",
          "name": "stdout",
          "text": [
            "<class 'pandas.core.frame.DataFrame'>\n",
            "Index: 1467 entries, 1105 to 951\n",
            "Data columns (total 9 columns):\n",
            " #   Column                Non-Null Count  Dtype  \n",
            "---  ------                --------------  -----  \n",
            " 0   NoEmp                 1467 non-null   int64  \n",
            " 1   CreateJob             1467 non-null   int64  \n",
            " 2   DisbursementGross     1467 non-null   int64  \n",
            " 3   New                   1467 non-null   int64  \n",
            " 4   RealEstate            1467 non-null   int64  \n",
            " 5   Portion               1467 non-null   float64\n",
            " 6   Recession             1467 non-null   int64  \n",
            " 7   UrbanRural_UNDEFINED  1467 non-null   int64  \n",
            " 8   UrbanRural_URBAN      1467 non-null   int64  \n",
            "dtypes: float64(1), int64(8)\n",
            "memory usage: 114.6 KB\n"
          ]
        }
      ],
      "source": [
        "X_train_encoded.info()"
      ]
    },
    {
      "cell_type": "code",
      "execution_count": 68,
      "id": "4a933d35",
      "metadata": {
        "colab": {
          "base_uri": "https://localhost:8080/",
          "height": 226
        },
        "id": "4a933d35",
        "outputId": "bf067481-3580-4743-fca7-1b7d1ca5865b"
      },
      "outputs": [
        {
          "output_type": "execute_result",
          "data": {
            "text/plain": [
              "      NoEmp  CreateJob  DisbursementGross  New  RealEstate  Portion  \\\n",
              "1105      2          2             138000    0           0     0.75   \n",
              "1918      1          1               5000    0           0     0.85   \n",
              "784       5          2              83768    0           0     0.50   \n",
              "1231      5          0             807500    0           1     0.80   \n",
              "1958      1          0             500000    0           0     0.90   \n",
              "\n",
              "      Recession  UrbanRural_UNDEFINED  UrbanRural_URBAN  \n",
              "1105          0                     0                 0  \n",
              "1918          0                     0                 1  \n",
              "784           0                     0                 0  \n",
              "1231          0                     1                 0  \n",
              "1958          0                     0                 0  "
            ],
            "text/html": [
              "\n",
              "  <div id=\"df-d6050854-c92a-43b0-8730-ec9773f9a526\" class=\"colab-df-container\">\n",
              "    <div>\n",
              "<style scoped>\n",
              "    .dataframe tbody tr th:only-of-type {\n",
              "        vertical-align: middle;\n",
              "    }\n",
              "\n",
              "    .dataframe tbody tr th {\n",
              "        vertical-align: top;\n",
              "    }\n",
              "\n",
              "    .dataframe thead th {\n",
              "        text-align: right;\n",
              "    }\n",
              "</style>\n",
              "<table border=\"1\" class=\"dataframe\">\n",
              "  <thead>\n",
              "    <tr style=\"text-align: right;\">\n",
              "      <th></th>\n",
              "      <th>NoEmp</th>\n",
              "      <th>CreateJob</th>\n",
              "      <th>DisbursementGross</th>\n",
              "      <th>New</th>\n",
              "      <th>RealEstate</th>\n",
              "      <th>Portion</th>\n",
              "      <th>Recession</th>\n",
              "      <th>UrbanRural_UNDEFINED</th>\n",
              "      <th>UrbanRural_URBAN</th>\n",
              "    </tr>\n",
              "  </thead>\n",
              "  <tbody>\n",
              "    <tr>\n",
              "      <th>1105</th>\n",
              "      <td>2</td>\n",
              "      <td>2</td>\n",
              "      <td>138000</td>\n",
              "      <td>0</td>\n",
              "      <td>0</td>\n",
              "      <td>0.75</td>\n",
              "      <td>0</td>\n",
              "      <td>0</td>\n",
              "      <td>0</td>\n",
              "    </tr>\n",
              "    <tr>\n",
              "      <th>1918</th>\n",
              "      <td>1</td>\n",
              "      <td>1</td>\n",
              "      <td>5000</td>\n",
              "      <td>0</td>\n",
              "      <td>0</td>\n",
              "      <td>0.85</td>\n",
              "      <td>0</td>\n",
              "      <td>0</td>\n",
              "      <td>1</td>\n",
              "    </tr>\n",
              "    <tr>\n",
              "      <th>784</th>\n",
              "      <td>5</td>\n",
              "      <td>2</td>\n",
              "      <td>83768</td>\n",
              "      <td>0</td>\n",
              "      <td>0</td>\n",
              "      <td>0.50</td>\n",
              "      <td>0</td>\n",
              "      <td>0</td>\n",
              "      <td>0</td>\n",
              "    </tr>\n",
              "    <tr>\n",
              "      <th>1231</th>\n",
              "      <td>5</td>\n",
              "      <td>0</td>\n",
              "      <td>807500</td>\n",
              "      <td>0</td>\n",
              "      <td>1</td>\n",
              "      <td>0.80</td>\n",
              "      <td>0</td>\n",
              "      <td>1</td>\n",
              "      <td>0</td>\n",
              "    </tr>\n",
              "    <tr>\n",
              "      <th>1958</th>\n",
              "      <td>1</td>\n",
              "      <td>0</td>\n",
              "      <td>500000</td>\n",
              "      <td>0</td>\n",
              "      <td>0</td>\n",
              "      <td>0.90</td>\n",
              "      <td>0</td>\n",
              "      <td>0</td>\n",
              "      <td>0</td>\n",
              "    </tr>\n",
              "  </tbody>\n",
              "</table>\n",
              "</div>\n",
              "    <div class=\"colab-df-buttons\">\n",
              "\n",
              "  <div class=\"colab-df-container\">\n",
              "    <button class=\"colab-df-convert\" onclick=\"convertToInteractive('df-d6050854-c92a-43b0-8730-ec9773f9a526')\"\n",
              "            title=\"Convert this dataframe to an interactive table.\"\n",
              "            style=\"display:none;\">\n",
              "\n",
              "  <svg xmlns=\"http://www.w3.org/2000/svg\" height=\"24px\" viewBox=\"0 -960 960 960\">\n",
              "    <path d=\"M120-120v-720h720v720H120Zm60-500h600v-160H180v160Zm220 220h160v-160H400v160Zm0 220h160v-160H400v160ZM180-400h160v-160H180v160Zm440 0h160v-160H620v160ZM180-180h160v-160H180v160Zm440 0h160v-160H620v160Z\"/>\n",
              "  </svg>\n",
              "    </button>\n",
              "\n",
              "  <style>\n",
              "    .colab-df-container {\n",
              "      display:flex;\n",
              "      gap: 12px;\n",
              "    }\n",
              "\n",
              "    .colab-df-convert {\n",
              "      background-color: #E8F0FE;\n",
              "      border: none;\n",
              "      border-radius: 50%;\n",
              "      cursor: pointer;\n",
              "      display: none;\n",
              "      fill: #1967D2;\n",
              "      height: 32px;\n",
              "      padding: 0 0 0 0;\n",
              "      width: 32px;\n",
              "    }\n",
              "\n",
              "    .colab-df-convert:hover {\n",
              "      background-color: #E2EBFA;\n",
              "      box-shadow: 0px 1px 2px rgba(60, 64, 67, 0.3), 0px 1px 3px 1px rgba(60, 64, 67, 0.15);\n",
              "      fill: #174EA6;\n",
              "    }\n",
              "\n",
              "    .colab-df-buttons div {\n",
              "      margin-bottom: 4px;\n",
              "    }\n",
              "\n",
              "    [theme=dark] .colab-df-convert {\n",
              "      background-color: #3B4455;\n",
              "      fill: #D2E3FC;\n",
              "    }\n",
              "\n",
              "    [theme=dark] .colab-df-convert:hover {\n",
              "      background-color: #434B5C;\n",
              "      box-shadow: 0px 1px 3px 1px rgba(0, 0, 0, 0.15);\n",
              "      filter: drop-shadow(0px 1px 2px rgba(0, 0, 0, 0.3));\n",
              "      fill: #FFFFFF;\n",
              "    }\n",
              "  </style>\n",
              "\n",
              "    <script>\n",
              "      const buttonEl =\n",
              "        document.querySelector('#df-d6050854-c92a-43b0-8730-ec9773f9a526 button.colab-df-convert');\n",
              "      buttonEl.style.display =\n",
              "        google.colab.kernel.accessAllowed ? 'block' : 'none';\n",
              "\n",
              "      async function convertToInteractive(key) {\n",
              "        const element = document.querySelector('#df-d6050854-c92a-43b0-8730-ec9773f9a526');\n",
              "        const dataTable =\n",
              "          await google.colab.kernel.invokeFunction('convertToInteractive',\n",
              "                                                    [key], {});\n",
              "        if (!dataTable) return;\n",
              "\n",
              "        const docLinkHtml = 'Like what you see? Visit the ' +\n",
              "          '<a target=\"_blank\" href=https://colab.research.google.com/notebooks/data_table.ipynb>data table notebook</a>'\n",
              "          + ' to learn more about interactive tables.';\n",
              "        element.innerHTML = '';\n",
              "        dataTable['output_type'] = 'display_data';\n",
              "        await google.colab.output.renderOutput(dataTable, element);\n",
              "        const docLink = document.createElement('div');\n",
              "        docLink.innerHTML = docLinkHtml;\n",
              "        element.appendChild(docLink);\n",
              "      }\n",
              "    </script>\n",
              "  </div>\n",
              "\n",
              "\n",
              "<div id=\"df-13ac56c0-b92d-48ba-866e-7a8b71ef58d8\">\n",
              "  <button class=\"colab-df-quickchart\" onclick=\"quickchart('df-13ac56c0-b92d-48ba-866e-7a8b71ef58d8')\"\n",
              "            title=\"Suggest charts\"\n",
              "            style=\"display:none;\">\n",
              "\n",
              "<svg xmlns=\"http://www.w3.org/2000/svg\" height=\"24px\"viewBox=\"0 0 24 24\"\n",
              "     width=\"24px\">\n",
              "    <g>\n",
              "        <path d=\"M19 3H5c-1.1 0-2 .9-2 2v14c0 1.1.9 2 2 2h14c1.1 0 2-.9 2-2V5c0-1.1-.9-2-2-2zM9 17H7v-7h2v7zm4 0h-2V7h2v10zm4 0h-2v-4h2v4z\"/>\n",
              "    </g>\n",
              "</svg>\n",
              "  </button>\n",
              "\n",
              "<style>\n",
              "  .colab-df-quickchart {\n",
              "      --bg-color: #E8F0FE;\n",
              "      --fill-color: #1967D2;\n",
              "      --hover-bg-color: #E2EBFA;\n",
              "      --hover-fill-color: #174EA6;\n",
              "      --disabled-fill-color: #AAA;\n",
              "      --disabled-bg-color: #DDD;\n",
              "  }\n",
              "\n",
              "  [theme=dark] .colab-df-quickchart {\n",
              "      --bg-color: #3B4455;\n",
              "      --fill-color: #D2E3FC;\n",
              "      --hover-bg-color: #434B5C;\n",
              "      --hover-fill-color: #FFFFFF;\n",
              "      --disabled-bg-color: #3B4455;\n",
              "      --disabled-fill-color: #666;\n",
              "  }\n",
              "\n",
              "  .colab-df-quickchart {\n",
              "    background-color: var(--bg-color);\n",
              "    border: none;\n",
              "    border-radius: 50%;\n",
              "    cursor: pointer;\n",
              "    display: none;\n",
              "    fill: var(--fill-color);\n",
              "    height: 32px;\n",
              "    padding: 0;\n",
              "    width: 32px;\n",
              "  }\n",
              "\n",
              "  .colab-df-quickchart:hover {\n",
              "    background-color: var(--hover-bg-color);\n",
              "    box-shadow: 0 1px 2px rgba(60, 64, 67, 0.3), 0 1px 3px 1px rgba(60, 64, 67, 0.15);\n",
              "    fill: var(--button-hover-fill-color);\n",
              "  }\n",
              "\n",
              "  .colab-df-quickchart-complete:disabled,\n",
              "  .colab-df-quickchart-complete:disabled:hover {\n",
              "    background-color: var(--disabled-bg-color);\n",
              "    fill: var(--disabled-fill-color);\n",
              "    box-shadow: none;\n",
              "  }\n",
              "\n",
              "  .colab-df-spinner {\n",
              "    border: 2px solid var(--fill-color);\n",
              "    border-color: transparent;\n",
              "    border-bottom-color: var(--fill-color);\n",
              "    animation:\n",
              "      spin 1s steps(1) infinite;\n",
              "  }\n",
              "\n",
              "  @keyframes spin {\n",
              "    0% {\n",
              "      border-color: transparent;\n",
              "      border-bottom-color: var(--fill-color);\n",
              "      border-left-color: var(--fill-color);\n",
              "    }\n",
              "    20% {\n",
              "      border-color: transparent;\n",
              "      border-left-color: var(--fill-color);\n",
              "      border-top-color: var(--fill-color);\n",
              "    }\n",
              "    30% {\n",
              "      border-color: transparent;\n",
              "      border-left-color: var(--fill-color);\n",
              "      border-top-color: var(--fill-color);\n",
              "      border-right-color: var(--fill-color);\n",
              "    }\n",
              "    40% {\n",
              "      border-color: transparent;\n",
              "      border-right-color: var(--fill-color);\n",
              "      border-top-color: var(--fill-color);\n",
              "    }\n",
              "    60% {\n",
              "      border-color: transparent;\n",
              "      border-right-color: var(--fill-color);\n",
              "    }\n",
              "    80% {\n",
              "      border-color: transparent;\n",
              "      border-right-color: var(--fill-color);\n",
              "      border-bottom-color: var(--fill-color);\n",
              "    }\n",
              "    90% {\n",
              "      border-color: transparent;\n",
              "      border-bottom-color: var(--fill-color);\n",
              "    }\n",
              "  }\n",
              "</style>\n",
              "\n",
              "  <script>\n",
              "    async function quickchart(key) {\n",
              "      const quickchartButtonEl =\n",
              "        document.querySelector('#' + key + ' button');\n",
              "      quickchartButtonEl.disabled = true;  // To prevent multiple clicks.\n",
              "      quickchartButtonEl.classList.add('colab-df-spinner');\n",
              "      try {\n",
              "        const charts = await google.colab.kernel.invokeFunction(\n",
              "            'suggestCharts', [key], {});\n",
              "      } catch (error) {\n",
              "        console.error('Error during call to suggestCharts:', error);\n",
              "      }\n",
              "      quickchartButtonEl.classList.remove('colab-df-spinner');\n",
              "      quickchartButtonEl.classList.add('colab-df-quickchart-complete');\n",
              "    }\n",
              "    (() => {\n",
              "      let quickchartButtonEl =\n",
              "        document.querySelector('#df-13ac56c0-b92d-48ba-866e-7a8b71ef58d8 button');\n",
              "      quickchartButtonEl.style.display =\n",
              "        google.colab.kernel.accessAllowed ? 'block' : 'none';\n",
              "    })();\n",
              "  </script>\n",
              "</div>\n",
              "\n",
              "    </div>\n",
              "  </div>\n"
            ],
            "application/vnd.google.colaboratory.intrinsic+json": {
              "type": "dataframe",
              "variable_name": "X_train_encoded",
              "summary": "{\n  \"name\": \"X_train_encoded\",\n  \"rows\": 1467,\n  \"fields\": [\n    {\n      \"column\": \"NoEmp\",\n      \"properties\": {\n        \"dtype\": \"number\",\n        \"std\": 39,\n        \"min\": 0,\n        \"max\": 650,\n        \"num_unique_values\": 71,\n        \"samples\": [\n          12,\n          2,\n          32\n        ],\n        \"semantic_type\": \"\",\n        \"description\": \"\"\n      }\n    },\n    {\n      \"column\": \"CreateJob\",\n      \"properties\": {\n        \"dtype\": \"number\",\n        \"std\": 8,\n        \"min\": 0,\n        \"max\": 100,\n        \"num_unique_values\": 39,\n        \"samples\": [\n          69,\n          26,\n          4\n        ],\n        \"semantic_type\": \"\",\n        \"description\": \"\"\n      }\n    },\n    {\n      \"column\": \"DisbursementGross\",\n      \"properties\": {\n        \"dtype\": \"number\",\n        \"std\": 352275,\n        \"min\": 4999,\n        \"max\": 2315000,\n        \"num_unique_values\": 866,\n        \"samples\": [\n          452942,\n          395000,\n          46482\n        ],\n        \"semantic_type\": \"\",\n        \"description\": \"\"\n      }\n    },\n    {\n      \"column\": \"New\",\n      \"properties\": {\n        \"dtype\": \"number\",\n        \"std\": 0,\n        \"min\": 0,\n        \"max\": 1,\n        \"num_unique_values\": 2,\n        \"samples\": [\n          1,\n          0\n        ],\n        \"semantic_type\": \"\",\n        \"description\": \"\"\n      }\n    },\n    {\n      \"column\": \"RealEstate\",\n      \"properties\": {\n        \"dtype\": \"number\",\n        \"std\": 0,\n        \"min\": 0,\n        \"max\": 1,\n        \"num_unique_values\": 2,\n        \"samples\": [\n          1,\n          0\n        ],\n        \"semantic_type\": \"\",\n        \"description\": \"\"\n      }\n    },\n    {\n      \"column\": \"Portion\",\n      \"properties\": {\n        \"dtype\": \"number\",\n        \"std\": 0.18705151536564688,\n        \"min\": 0.29677,\n        \"max\": 1.0,\n        \"num_unique_values\": 25,\n        \"samples\": [\n          0.799987434,\n          0.653589543\n        ],\n        \"semantic_type\": \"\",\n        \"description\": \"\"\n      }\n    },\n    {\n      \"column\": \"Recession\",\n      \"properties\": {\n        \"dtype\": \"number\",\n        \"std\": 0,\n        \"min\": 0,\n        \"max\": 1,\n        \"num_unique_values\": 2,\n        \"samples\": [\n          1,\n          0\n        ],\n        \"semantic_type\": \"\",\n        \"description\": \"\"\n      }\n    },\n    {\n      \"column\": \"UrbanRural_UNDEFINED\",\n      \"properties\": {\n        \"dtype\": \"number\",\n        \"std\": 0,\n        \"min\": 0,\n        \"max\": 1,\n        \"num_unique_values\": 2,\n        \"samples\": [\n          1,\n          0\n        ],\n        \"semantic_type\": \"\",\n        \"description\": \"\"\n      }\n    },\n    {\n      \"column\": \"UrbanRural_URBAN\",\n      \"properties\": {\n        \"dtype\": \"number\",\n        \"std\": 0,\n        \"min\": 0,\n        \"max\": 1,\n        \"num_unique_values\": 2,\n        \"samples\": [\n          1,\n          0\n        ],\n        \"semantic_type\": \"\",\n        \"description\": \"\"\n      }\n    }\n  ]\n}"
            }
          },
          "metadata": {},
          "execution_count": 68
        }
      ],
      "source": [
        "X_train_encoded.head()"
      ]
    },
    {
      "cell_type": "code",
      "execution_count": 69,
      "id": "3095f353",
      "metadata": {
        "colab": {
          "base_uri": "https://localhost:8080/",
          "height": 698
        },
        "id": "3095f353",
        "outputId": "79e065e8-8881-4010-ff4c-b68c0c3234c6"
      },
      "outputs": [
        {
          "output_type": "display_data",
          "data": {
            "text/plain": [
              "<Figure size 800x600 with 2 Axes>"
            ],
            "image/png": "[encoded data removed]"
          },
          "metadata": {}
        }
      ],
      "source": [
        "##-----------------------------------------------------------------------\n",
        "##  2. Identify and and remove highly correlated columns\n",
        "##-----------------------------------------------------------------------\n",
        "import matplotlib.pyplot as plt\n",
        "import seaborn as sns\n",
        "corr_matrix = X_train_encoded.corr(numeric_only=True)\n",
        "plt.figure(figsize=(8, 6))\n",
        "sns.heatmap(corr_matrix, annot=True, cmap='coolwarm', linewidths=0.5, fmt = '.2f')\n",
        "plt.title('Correlation Heatmap')\n",
        "plt.show()"
      ]
    },
    {
      "cell_type": "code",
      "execution_count": 70,
      "id": "06907d3c",
      "metadata": {
        "colab": {
          "base_uri": "https://localhost:8080/",
          "height": 351
        },
        "id": "06907d3c",
        "outputId": "8b5216e8-302f-4b2e-c6aa-23ef20e8287c"
      },
      "outputs": [
        {
          "output_type": "execute_result",
          "data": {
            "text/plain": [
              "                         NoEmp  CreateJob  DisbursementGross       New  \\\n",
              "NoEmp                 1.000000   0.539605           0.239754 -0.066320   \n",
              "CreateJob             0.539605   1.000000           0.292957 -0.034239   \n",
              "DisbursementGross     0.239754   0.292957           1.000000 -0.102395   \n",
              "New                  -0.066320  -0.034239          -0.102395  1.000000   \n",
              "RealEstate            0.213038   0.277852           0.587291 -0.142666   \n",
              "Portion               0.235945   0.304323           0.499769  0.021917   \n",
              "Recession            -0.029350  -0.055285          -0.114316  0.005794   \n",
              "UrbanRural_UNDEFINED -0.019900  -0.088962          -0.034854  0.078786   \n",
              "UrbanRural_URBAN      0.026661   0.083606           0.069421 -0.088699   \n",
              "\n",
              "                      RealEstate   Portion  Recession  UrbanRural_UNDEFINED  \\\n",
              "NoEmp                   0.213038  0.235945  -0.029350             -0.019900   \n",
              "CreateJob               0.277852  0.304323  -0.055285             -0.088962   \n",
              "DisbursementGross       0.587291  0.499769  -0.114316             -0.034854   \n",
              "New                    -0.142666  0.021917   0.005794              0.078786   \n",
              "RealEstate              1.000000  0.654700  -0.169458              0.035116   \n",
              "Portion                 0.654700  1.000000  -0.139932              0.248059   \n",
              "Recession              -0.169458 -0.139932   1.000000             -0.000184   \n",
              "UrbanRural_UNDEFINED    0.035116  0.248059  -0.000184              1.000000   \n",
              "UrbanRural_URBAN        0.018742 -0.168760  -0.009173             -0.770772   \n",
              "\n",
              "                      UrbanRural_URBAN  \n",
              "NoEmp                         0.026661  \n",
              "CreateJob                     0.083606  \n",
              "DisbursementGross             0.069421  \n",
              "New                          -0.088699  \n",
              "RealEstate                    0.018742  \n",
              "Portion                      -0.168760  \n",
              "Recession                    -0.009173  \n",
              "UrbanRural_UNDEFINED         -0.770772  \n",
              "UrbanRural_URBAN              1.000000  "
            ],
            "text/html": [
              "\n",
              "  <div id=\"df-cc78afe2-794c-4767-8dd0-679939e2b90c\" class=\"colab-df-container\">\n",
              "    <div>\n",
              "<style scoped>\n",
              "    .dataframe tbody tr th:only-of-type {\n",
              "        vertical-align: middle;\n",
              "    }\n",
              "\n",
              "    .dataframe tbody tr th {\n",
              "        vertical-align: top;\n",
              "    }\n",
              "\n",
              "    .dataframe thead th {\n",
              "        text-align: right;\n",
              "    }\n",
              "</style>\n",
              "<table border=\"1\" class=\"dataframe\">\n",
              "  <thead>\n",
              "    <tr style=\"text-align: right;\">\n",
              "      <th></th>\n",
              "      <th>NoEmp</th>\n",
              "      <th>CreateJob</th>\n",
              "      <th>DisbursementGross</th>\n",
              "      <th>New</th>\n",
              "      <th>RealEstate</th>\n",
              "      <th>Portion</th>\n",
              "      <th>Recession</th>\n",
              "      <th>UrbanRural_UNDEFINED</th>\n",
              "      <th>UrbanRural_URBAN</th>\n",
              "    </tr>\n",
              "  </thead>\n",
              "  <tbody>\n",
              "    <tr>\n",
              "      <th>NoEmp</th>\n",
              "      <td>1.000000</td>\n",
              "      <td>0.539605</td>\n",
              "      <td>0.239754</td>\n",
              "      <td>-0.066320</td>\n",
              "      <td>0.213038</td>\n",
              "      <td>0.235945</td>\n",
              "      <td>-0.029350</td>\n",
              "      <td>-0.019900</td>\n",
              "      <td>0.026661</td>\n",
              "    </tr>\n",
              "    <tr>\n",
              "      <th>CreateJob</th>\n",
              "      <td>0.539605</td>\n",
              "      <td>1.000000</td>\n",
              "      <td>0.292957</td>\n",
              "      <td>-0.034239</td>\n",
              "      <td>0.277852</td>\n",
              "      <td>0.304323</td>\n",
              "      <td>-0.055285</td>\n",
              "      <td>-0.088962</td>\n",
              "      <td>0.083606</td>\n",
              "    </tr>\n",
              "    <tr>\n",
              "      <th>DisbursementGross</th>\n",
              "      <td>0.239754</td>\n",
              "      <td>0.292957</td>\n",
              "      <td>1.000000</td>\n",
              "      <td>-0.102395</td>\n",
              "      <td>0.587291</td>\n",
              "      <td>0.499769</td>\n",
              "      <td>-0.114316</td>\n",
              "      <td>-0.034854</td>\n",
              "      <td>0.069421</td>\n",
              "    </tr>\n",
              "    <tr>\n",
              "      <th>New</th>\n",
              "      <td>-0.066320</td>\n",
              "      <td>-0.034239</td>\n",
              "      <td>-0.102395</td>\n",
              "      <td>1.000000</td>\n",
              "      <td>-0.142666</td>\n",
              "      <td>0.021917</td>\n",
              "      <td>0.005794</td>\n",
              "      <td>0.078786</td>\n",
              "      <td>-0.088699</td>\n",
              "    </tr>\n",
              "    <tr>\n",
              "      <th>RealEstate</th>\n",
              "      <td>0.213038</td>\n",
              "      <td>0.277852</td>\n",
              "      <td>0.587291</td>\n",
              "      <td>-0.142666</td>\n",
              "      <td>1.000000</td>\n",
              "      <td>0.654700</td>\n",
              "      <td>-0.169458</td>\n",
              "      <td>0.035116</td>\n",
              "      <td>0.018742</td>\n",
              "    </tr>\n",
              "    <tr>\n",
              "      <th>Portion</th>\n",
              "      <td>0.235945</td>\n",
              "      <td>0.304323</td>\n",
              "      <td>0.499769</td>\n",
              "      <td>0.021917</td>\n",
              "      <td>0.654700</td>\n",
              "      <td>1.000000</td>\n",
              "      <td>-0.139932</td>\n",
              "      <td>0.248059</td>\n",
              "      <td>-0.168760</td>\n",
              "    </tr>\n",
              "    <tr>\n",
              "      <th>Recession</th>\n",
              "      <td>-0.029350</td>\n",
              "      <td>-0.055285</td>\n",
              "      <td>-0.114316</td>\n",
              "      <td>0.005794</td>\n",
              "      <td>-0.169458</td>\n",
              "      <td>-0.139932</td>\n",
              "      <td>1.000000</td>\n",
              "      <td>-0.000184</td>\n",
              "      <td>-0.009173</td>\n",
              "    </tr>\n",
              "    <tr>\n",
              "      <th>UrbanRural_UNDEFINED</th>\n",
              "      <td>-0.019900</td>\n",
              "      <td>-0.088962</td>\n",
              "      <td>-0.034854</td>\n",
              "      <td>0.078786</td>\n",
              "      <td>0.035116</td>\n",
              "      <td>0.248059</td>\n",
              "      <td>-0.000184</td>\n",
              "      <td>1.000000</td>\n",
              "      <td>-0.770772</td>\n",
              "    </tr>\n",
              "    <tr>\n",
              "      <th>UrbanRural_URBAN</th>\n",
              "      <td>0.026661</td>\n",
              "      <td>0.083606</td>\n",
              "      <td>0.069421</td>\n",
              "      <td>-0.088699</td>\n",
              "      <td>0.018742</td>\n",
              "      <td>-0.168760</td>\n",
              "      <td>-0.009173</td>\n",
              "      <td>-0.770772</td>\n",
              "      <td>1.000000</td>\n",
              "    </tr>\n",
              "  </tbody>\n",
              "</table>\n",
              "</div>\n",
              "    <div class=\"colab-df-buttons\">\n",
              "\n",
              "  <div class=\"colab-df-container\">\n",
              "    <button class=\"colab-df-convert\" onclick=\"convertToInteractive('df-cc78afe2-794c-4767-8dd0-679939e2b90c')\"\n",
              "            title=\"Convert this dataframe to an interactive table.\"\n",
              "            style=\"display:none;\">\n",
              "\n",
              "  <svg xmlns=\"http://www.w3.org/2000/svg\" height=\"24px\" viewBox=\"0 -960 960 960\">\n",
              "    <path d=\"M120-120v-720h720v720H120Zm60-500h600v-160H180v160Zm220 220h160v-160H400v160Zm0 220h160v-160H400v160ZM180-400h160v-160H180v160Zm440 0h160v-160H620v160ZM180-180h160v-160H180v160Zm440 0h160v-160H620v160Z\"/>\n",
              "  </svg>\n",
              "    </button>\n",
              "\n",
              "  <style>\n",
              "    .colab-df-container {\n",
              "      display:flex;\n",
              "      gap: 12px;\n",
              "    }\n",
              "\n",
              "    .colab-df-convert {\n",
              "      background-color: #E8F0FE;\n",
              "      border: none;\n",
              "      border-radius: 50%;\n",
              "      cursor: pointer;\n",
              "      display: none;\n",
              "      fill: #1967D2;\n",
              "      height: 32px;\n",
              "      padding: 0 0 0 0;\n",
              "      width: 32px;\n",
              "    }\n",
              "\n",
              "    .colab-df-convert:hover {\n",
              "      background-color: #E2EBFA;\n",
              "      box-shadow: 0px 1px 2px rgba(60, 64, 67, 0.3), 0px 1px 3px 1px rgba(60, 64, 67, 0.15);\n",
              "      fill: #174EA6;\n",
              "    }\n",
              "\n",
              "    .colab-df-buttons div {\n",
              "      margin-bottom: 4px;\n",
              "    }\n",
              "\n",
              "    [theme=dark] .colab-df-convert {\n",
              "      background-color: #3B4455;\n",
              "      fill: #D2E3FC;\n",
              "    }\n",
              "\n",
              "    [theme=dark] .colab-df-convert:hover {\n",
              "      background-color: #434B5C;\n",
              "      box-shadow: 0px 1px 3px 1px rgba(0, 0, 0, 0.15);\n",
              "      filter: drop-shadow(0px 1px 2px rgba(0, 0, 0, 0.3));\n",
              "      fill: #FFFFFF;\n",
              "    }\n",
              "  </style>\n",
              "\n",
              "    <script>\n",
              "      const buttonEl =\n",
              "        document.querySelector('#df-cc78afe2-794c-4767-8dd0-679939e2b90c button.colab-df-convert');\n",
              "      buttonEl.style.display =\n",
              "        google.colab.kernel.accessAllowed ? 'block' : 'none';\n",
              "\n",
              "      async function convertToInteractive(key) {\n",
              "        const element = document.querySelector('#df-cc78afe2-794c-4767-8dd0-679939e2b90c');\n",
              "        const dataTable =\n",
              "          await google.colab.kernel.invokeFunction('convertToInteractive',\n",
              "                                                    [key], {});\n",
              "        if (!dataTable) return;\n",
              "\n",
              "        const docLinkHtml = 'Like what you see? Visit the ' +\n",
              "          '<a target=\"_blank\" href=https://colab.research.google.com/notebooks/data_table.ipynb>data table notebook</a>'\n",
              "          + ' to learn more about interactive tables.';\n",
              "        element.innerHTML = '';\n",
              "        dataTable['output_type'] = 'display_data';\n",
              "        await google.colab.output.renderOutput(dataTable, element);\n",
              "        const docLink = document.createElement('div');\n",
              "        docLink.innerHTML = docLinkHtml;\n",
              "        element.appendChild(docLink);\n",
              "      }\n",
              "    </script>\n",
              "  </div>\n",
              "\n",
              "\n",
              "<div id=\"df-dad109ad-4cbf-4758-8538-1011bda9c153\">\n",
              "  <button class=\"colab-df-quickchart\" onclick=\"quickchart('df-dad109ad-4cbf-4758-8538-1011bda9c153')\"\n",
              "            title=\"Suggest charts\"\n",
              "            style=\"display:none;\">\n",
              "\n",
              "<svg xmlns=\"http://www.w3.org/2000/svg\" height=\"24px\"viewBox=\"0 0 24 24\"\n",
              "     width=\"24px\">\n",
              "    <g>\n",
              "        <path d=\"M19 3H5c-1.1 0-2 .9-2 2v14c0 1.1.9 2 2 2h14c1.1 0 2-.9 2-2V5c0-1.1-.9-2-2-2zM9 17H7v-7h2v7zm4 0h-2V7h2v10zm4 0h-2v-4h2v4z\"/>\n",
              "    </g>\n",
              "</svg>\n",
              "  </button>\n",
              "\n",
              "<style>\n",
              "  .colab-df-quickchart {\n",
              "      --bg-color: #E8F0FE;\n",
              "      --fill-color: #1967D2;\n",
              "      --hover-bg-color: #E2EBFA;\n",
              "      --hover-fill-color: #174EA6;\n",
              "      --disabled-fill-color: #AAA;\n",
              "      --disabled-bg-color: #DDD;\n",
              "  }\n",
              "\n",
              "  [theme=dark] .colab-df-quickchart {\n",
              "      --bg-color: #3B4455;\n",
              "      --fill-color: #D2E3FC;\n",
              "      --hover-bg-color: #434B5C;\n",
              "      --hover-fill-color: #FFFFFF;\n",
              "      --disabled-bg-color: #3B4455;\n",
              "      --disabled-fill-color: #666;\n",
              "  }\n",
              "\n",
              "  .colab-df-quickchart {\n",
              "    background-color: var(--bg-color);\n",
              "    border: none;\n",
              "    border-radius: 50%;\n",
              "    cursor: pointer;\n",
              "    display: none;\n",
              "    fill: var(--fill-color);\n",
              "    height: 32px;\n",
              "    padding: 0;\n",
              "    width: 32px;\n",
              "  }\n",
              "\n",
              "  .colab-df-quickchart:hover {\n",
              "    background-color: var(--hover-bg-color);\n",
              "    box-shadow: 0 1px 2px rgba(60, 64, 67, 0.3), 0 1px 3px 1px rgba(60, 64, 67, 0.15);\n",
              "    fill: var(--button-hover-fill-color);\n",
              "  }\n",
              "\n",
              "  .colab-df-quickchart-complete:disabled,\n",
              "  .colab-df-quickchart-complete:disabled:hover {\n",
              "    background-color: var(--disabled-bg-color);\n",
              "    fill: var(--disabled-fill-color);\n",
              "    box-shadow: none;\n",
              "  }\n",
              "\n",
              "  .colab-df-spinner {\n",
              "    border: 2px solid var(--fill-color);\n",
              "    border-color: transparent;\n",
              "    border-bottom-color: var(--fill-color);\n",
              "    animation:\n",
              "      spin 1s steps(1) infinite;\n",
              "  }\n",
              "\n",
              "  @keyframes spin {\n",
              "    0% {\n",
              "      border-color: transparent;\n",
              "      border-bottom-color: var(--fill-color);\n",
              "      border-left-color: var(--fill-color);\n",
              "    }\n",
              "    20% {\n",
              "      border-color: transparent;\n",
              "      border-left-color: var(--fill-color);\n",
              "      border-top-color: var(--fill-color);\n",
              "    }\n",
              "    30% {\n",
              "      border-color: transparent;\n",
              "      border-left-color: var(--fill-color);\n",
              "      border-top-color: var(--fill-color);\n",
              "      border-right-color: var(--fill-color);\n",
              "    }\n",
              "    40% {\n",
              "      border-color: transparent;\n",
              "      border-right-color: var(--fill-color);\n",
              "      border-top-color: var(--fill-color);\n",
              "    }\n",
              "    60% {\n",
              "      border-color: transparent;\n",
              "      border-right-color: var(--fill-color);\n",
              "    }\n",
              "    80% {\n",
              "      border-color: transparent;\n",
              "      border-right-color: var(--fill-color);\n",
              "      border-bottom-color: var(--fill-color);\n",
              "    }\n",
              "    90% {\n",
              "      border-color: transparent;\n",
              "      border-bottom-color: var(--fill-color);\n",
              "    }\n",
              "  }\n",
              "</style>\n",
              "\n",
              "  <script>\n",
              "    async function quickchart(key) {\n",
              "      const quickchartButtonEl =\n",
              "        document.querySelector('#' + key + ' button');\n",
              "      quickchartButtonEl.disabled = true;  // To prevent multiple clicks.\n",
              "      quickchartButtonEl.classList.add('colab-df-spinner');\n",
              "      try {\n",
              "        const charts = await google.colab.kernel.invokeFunction(\n",
              "            'suggestCharts', [key], {});\n",
              "      } catch (error) {\n",
              "        console.error('Error during call to suggestCharts:', error);\n",
              "      }\n",
              "      quickchartButtonEl.classList.remove('colab-df-spinner');\n",
              "      quickchartButtonEl.classList.add('colab-df-quickchart-complete');\n",
              "    }\n",
              "    (() => {\n",
              "      let quickchartButtonEl =\n",
              "        document.querySelector('#df-dad109ad-4cbf-4758-8538-1011bda9c153 button');\n",
              "      quickchartButtonEl.style.display =\n",
              "        google.colab.kernel.accessAllowed ? 'block' : 'none';\n",
              "    })();\n",
              "  </script>\n",
              "</div>\n",
              "\n",
              "  <div id=\"id_4d07d89e-fa1d-403d-9486-9739187e889c\">\n",
              "    <style>\n",
              "      .colab-df-generate {\n",
              "        background-color: #E8F0FE;\n",
              "        border: none;\n",
              "        border-radius: 50%;\n",
              "        cursor: pointer;\n",
              "        display: none;\n",
              "        fill: #1967D2;\n",
              "        height: 32px;\n",
              "        padding: 0 0 0 0;\n",
              "        width: 32px;\n",
              "      }\n",
              "\n",
              "      .colab-df-generate:hover {\n",
              "        background-color: #E2EBFA;\n",
              "        box-shadow: 0px 1px 2px rgba(60, 64, 67, 0.3), 0px 1px 3px 1px rgba(60, 64, 67, 0.15);\n",
              "        fill: #174EA6;\n",
              "      }\n",
              "\n",
              "      [theme=dark] .colab-df-generate {\n",
              "        background-color: #3B4455;\n",
              "        fill: #D2E3FC;\n",
              "      }\n",
              "\n",
              "      [theme=dark] .colab-df-generate:hover {\n",
              "        background-color: #434B5C;\n",
              "        box-shadow: 0px 1px 3px 1px rgba(0, 0, 0, 0.15);\n",
              "        filter: drop-shadow(0px 1px 2px rgba(0, 0, 0, 0.3));\n",
              "        fill: #FFFFFF;\n",
              "      }\n",
              "    </style>\n",
              "    <button class=\"colab-df-generate\" onclick=\"generateWithVariable('corr_matrix')\"\n",
              "            title=\"Generate code using this dataframe.\"\n",
              "            style=\"display:none;\">\n",
              "\n",
              "  <svg xmlns=\"http://www.w3.org/2000/svg\" height=\"24px\"viewBox=\"0 0 24 24\"\n",
              "       width=\"24px\">\n",
              "    <path d=\"M7,19H8.4L18.45,9,17,7.55,7,17.6ZM5,21V16.75L18.45,3.32a2,2,0,0,1,2.83,0l1.4,1.43a1.91,1.91,0,0,1,.58,1.4,1.91,1.91,0,0,1-.58,1.4L9.25,21ZM18.45,9,17,7.55Zm-12,3A5.31,5.31,0,0,0,4.9,8.1,5.31,5.31,0,0,0,1,6.5,5.31,5.31,0,0,0,4.9,4.9,5.31,5.31,0,0,0,6.5,1,5.31,5.31,0,0,0,8.1,4.9,5.31,5.31,0,0,0,12,6.5,5.46,5.46,0,0,0,6.5,12Z\"/>\n",
              "  </svg>\n",
              "    </button>\n",
              "    <script>\n",
              "      (() => {\n",
              "      const buttonEl =\n",
              "        document.querySelector('#id_4d07d89e-fa1d-403d-9486-9739187e889c button.colab-df-generate');\n",
              "      buttonEl.style.display =\n",
              "        google.colab.kernel.accessAllowed ? 'block' : 'none';\n",
              "\n",
              "      buttonEl.onclick = () => {\n",
              "        google.colab.notebook.generateWithVariable('corr_matrix');\n",
              "      }\n",
              "      })();\n",
              "    </script>\n",
              "  </div>\n",
              "\n",
              "    </div>\n",
              "  </div>\n"
            ],
            "application/vnd.google.colaboratory.intrinsic+json": {
              "type": "dataframe",
              "variable_name": "corr_matrix",
              "summary": "{\n  \"name\": \"corr_matrix\",\n  \"rows\": 9,\n  \"fields\": [\n    {\n      \"column\": \"NoEmp\",\n      \"properties\": {\n        \"dtype\": \"number\",\n        \"std\": 0.344147934840837,\n        \"min\": -0.06632002639770264,\n        \"max\": 1.0,\n        \"num_unique_values\": 9,\n        \"samples\": [\n          -0.01989962609901847,\n          0.5396049658082587,\n          0.23594540439755946\n        ],\n        \"semantic_type\": \"\",\n        \"description\": \"\"\n      }\n    },\n    {\n      \"column\": \"CreateJob\",\n      \"properties\": {\n        \"dtype\": \"number\",\n        \"std\": 0.347845809425439,\n        \"min\": -0.08896156084266595,\n        \"max\": 1.0,\n        \"num_unique_values\": 9,\n        \"samples\": [\n          -0.08896156084266595,\n          1.0,\n          0.304323142080395\n        ],\n        \"semantic_type\": \"\",\n        \"description\": \"\"\n      }\n    },\n    {\n      \"column\": \"DisbursementGross\",\n      \"properties\": {\n        \"dtype\": \"number\",\n        \"std\": 0.37204628686963337,\n        \"min\": -0.11431589345635801,\n        \"max\": 1.0,\n        \"num_unique_values\": 9,\n        \"samples\": [\n          -0.034854436348487006,\n          0.29295676135305504,\n          0.4997685073903674\n        ],\n        \"semantic_type\": \"\",\n        \"description\": \"\"\n      }\n    },\n    {\n      \"column\": \"New\",\n      \"properties\": {\n        \"dtype\": \"number\",\n        \"std\": 0.3536938711734715,\n        \"min\": -0.14266587950522702,\n        \"max\": 1.0,\n        \"num_unique_values\": 9,\n        \"samples\": [\n          0.07878643510714385,\n          -0.03423907115754025,\n          0.021917232266325998\n        ],\n        \"semantic_type\": \"\",\n        \"description\": \"\"\n      }\n    },\n    {\n      \"column\": \"RealEstate\",\n      \"properties\": {\n        \"dtype\": \"number\",\n        \"std\": 0.3978646306925183,\n        \"min\": -0.1694582113771564,\n        \"max\": 1.0,\n        \"num_unique_values\": 9,\n        \"samples\": [\n          0.03511590348794845,\n          0.2778519250146961,\n          0.6546995841041439\n        ],\n        \"semantic_type\": \"\",\n        \"description\": \"\"\n      }\n    },\n    {\n      \"column\": \"Portion\",\n      \"properties\": {\n        \"dtype\": \"number\",\n        \"std\": 0.3796263706858421,\n        \"min\": -0.16875952726980128,\n        \"max\": 1.0,\n        \"num_unique_values\": 9,\n        \"samples\": [\n          0.24805875199753702,\n          0.304323142080395,\n          1.0\n        ],\n        \"semantic_type\": \"\",\n        \"description\": \"\"\n      }\n    },\n    {\n      \"column\": \"Recession\",\n      \"properties\": {\n        \"dtype\": \"number\",\n        \"std\": 0.3603695825070068,\n        \"min\": -0.1694582113771564,\n        \"max\": 1.0,\n        \"num_unique_values\": 9,\n        \"samples\": [\n          -0.0001842756601943426,\n          -0.055285062788527926,\n          -0.139931822077119\n        ],\n        \"semantic_type\": \"\",\n        \"description\": \"\"\n      }\n    },\n    {\n      \"column\": \"UrbanRural_UNDEFINED\",\n      \"properties\": {\n        \"dtype\": \"number\",\n        \"std\": 0.45419679938484897,\n        \"min\": -0.7707717115407984,\n        \"max\": 1.0,\n        \"num_unique_values\": 9,\n        \"samples\": [\n          1.0,\n          -0.08896156084266595,\n          0.24805875199753702\n        ],\n        \"semantic_type\": \"\",\n        \"description\": \"\"\n      }\n    },\n    {\n      \"column\": \"UrbanRural_URBAN\",\n      \"properties\": {\n        \"dtype\": \"number\",\n        \"std\": 0.4528397294682729,\n        \"min\": -0.7707717115407984,\n        \"max\": 1.0,\n        \"num_unique_values\": 9,\n        \"samples\": [\n          -0.7707717115407984,\n          0.08360569643174524,\n          -0.16875952726980128\n        ],\n        \"semantic_type\": \"\",\n        \"description\": \"\"\n      }\n    }\n  ]\n}"
            }
          },
          "metadata": {},
          "execution_count": 70
        }
      ],
      "source": [
        "corr_matrix"
      ]
    },
    {
      "cell_type": "code",
      "source": [],
      "metadata": {
        "id": "UlRxq4y9t6ww"
      },
      "id": "UlRxq4y9t6ww",
      "execution_count": 70,
      "outputs": []
    },
    {
      "cell_type": "code",
      "execution_count": 71,
      "id": "b8f9df13",
      "metadata": {
        "colab": {
          "base_uri": "https://localhost:8080/"
        },
        "id": "b8f9df13",
        "outputId": "228339e4-a3ef-42db-b827-a355eeaddb9e"
      },
      "outputs": [
        {
          "output_type": "stream",
          "name": "stdout",
          "text": [
            "Optimization terminated successfully.\n",
            "         Current function value: 0.509305\n",
            "         Iterations 8\n",
            "                           Results: Logit\n",
            "====================================================================\n",
            "Model:               Logit             Method:            MLE       \n",
            "Dependent Variable:  Default           Pseudo R-squared:  0.191     \n",
            "Date:                2024-10-01 03:31  AIC:               1514.3012 \n",
            "No. Observations:    1467              BIC:               1567.2109 \n",
            "Df Model:            9                 Log-Likelihood:    -747.15   \n",
            "Df Residuals:        1457              LL-Null:           -923.76   \n",
            "Converged:           1.0000            LLR p-value:       1.2794e-70\n",
            "No. Iterations:      8.0000            Scale:             1.0000    \n",
            "--------------------------------------------------------------------\n",
            "                      Coef.  Std.Err.    z    P>|z|   [0.025  0.975]\n",
            "--------------------------------------------------------------------\n",
            "const                 0.6165   0.3691  1.6702 0.0949 -0.1070  1.3400\n",
            "NoEmp                -0.0079   0.0070 -1.1226 0.2616 -0.0217  0.0059\n",
            "CreateJob             0.0025   0.0122  0.2013 0.8404 -0.0215  0.0265\n",
            "DisbursementGross    -0.0000   0.0000 -2.3406 0.0193 -0.0000 -0.0000\n",
            "New                   0.0462   0.1691  0.2731 0.7848 -0.2852  0.3775\n",
            "RealEstate           -1.9577   0.2965 -6.6020 0.0000 -2.5389 -1.3765\n",
            "Portion              -1.4360   0.5081 -2.8262 0.0047 -2.4319 -0.4401\n",
            "Recession             0.4315   0.2229  1.9356 0.0529 -0.0054  0.8684\n",
            "UrbanRural_UNDEFINED -1.6117   0.4211 -3.8272 0.0001 -2.4370 -0.7863\n",
            "UrbanRural_URBAN      0.1836   0.2454  0.7481 0.4544 -0.2973  0.6644\n",
            "====================================================================\n",
            "\n"
          ]
        }
      ],
      "source": [
        "##-------------------------\n",
        "##  Build the logit model\n",
        "##-------------------------\n",
        "import statsmodels.api as sm\n",
        "##  Constant is to be added when using the sm library\n",
        "X_train_encoded = sm.add_constant( X_train_encoded )\n",
        "#Call Logistic regression with X and Y variables of the training data\n",
        "# Model is built with the training data\n",
        "logit = sm.Logit(y_train, X_train_encoded)\n",
        "##  Fit the model and display results\n",
        "logit_model = logit.fit()\n",
        "print(logit_model.summary2())"
      ]
    },
    {
      "cell_type": "code",
      "source": [
        "#Only significant X-vars are used to build the predictive model\n",
        "#Only significant X-vars are used to build the predictive model\n",
        "#Select the significant variables\n",
        "\n",
        "significant_vars = logit_model.pvalues[logit_model.pvalues < 0.05].index.tolist()\n",
        "# Remove the constant if it's present\n",
        "\n",
        "significant_vars = ['const','DisbursementGross', 'RealEstate', 'Portion', 'UrbanRural_UNDEFINED']\n",
        "print(significant_vars)"
      ],
      "metadata": {
        "colab": {
          "base_uri": "https://localhost:8080/"
        },
        "id": "S_9UP1Dxt3xp",
        "outputId": "f365448b-546c-4f1b-e8f1-05827d1d9592"
      },
      "id": "S_9UP1Dxt3xp",
      "execution_count": 72,
      "outputs": [
        {
          "output_type": "stream",
          "name": "stdout",
          "text": [
            "['const', 'DisbursementGross', 'RealEstate', 'Portion', 'UrbanRural_UNDEFINED']\n"
          ]
        }
      ]
    },
    {
      "cell_type": "code",
      "execution_count": 73,
      "id": "7e2b574a",
      "metadata": {
        "colab": {
          "base_uri": "https://localhost:8080/"
        },
        "id": "7e2b574a",
        "outputId": "0a83b579-90c5-4444-a703-c46e2e0f4236"
      },
      "outputs": [
        {
          "output_type": "stream",
          "name": "stdout",
          "text": [
            "Optimization terminated successfully.\n",
            "         Current function value: 0.511349\n",
            "         Iterations 7\n",
            "                           Results: Logit\n",
            "====================================================================\n",
            "Model:               Logit             Method:            MLE       \n",
            "Dependent Variable:  Default           Pseudo R-squared:  0.188     \n",
            "Date:                2024-10-01 03:31  AIC:               1510.2976 \n",
            "No. Observations:    1467              BIC:               1536.7525 \n",
            "Df Model:            4                 Log-Likelihood:    -750.15   \n",
            "Df Residuals:        1462              LL-Null:           -923.76   \n",
            "Converged:           1.0000            LLR p-value:       6.9764e-74\n",
            "No. Iterations:      7.0000            Scale:             1.0000    \n",
            "--------------------------------------------------------------------\n",
            "                      Coef.  Std.Err.    z    P>|z|   [0.025  0.975]\n",
            "--------------------------------------------------------------------\n",
            "const                 0.8323   0.2847  2.9236 0.0035  0.2743  1.3902\n",
            "DisbursementGross    -0.0000   0.0000 -2.7947 0.0052 -0.0000 -0.0000\n",
            "RealEstate           -2.0015   0.2933 -6.8245 0.0000 -2.5763 -1.4266\n",
            "Portion              -1.4737   0.5000 -2.9476 0.0032 -2.4537 -0.4938\n",
            "UrbanRural_UNDEFINED -1.7663   0.3546 -4.9813 0.0000 -2.4613 -1.0713\n",
            "====================================================================\n",
            "\n"
          ]
        }
      ],
      "source": [
        "##-------------------------------------------------------\n",
        "##  Revise model to include only significant predictors\n",
        "##-------------------------------------------------------\n",
        "#final_logit holds the logistic regression equation aka -the model\n",
        "#Only significant X-vars are used to build the predictive model\n",
        "final_logit_model = sm.Logit( y_train,X_train_encoded[significant_vars] ).fit()\n",
        "print(final_logit_model.summary2())"
      ]
    },
    {
      "cell_type": "code",
      "execution_count": 74,
      "id": "bca84f05",
      "metadata": {
        "id": "bca84f05"
      },
      "outputs": [],
      "source": [
        "##----------------------------\n",
        "##  Apply model on test data\n",
        "##----------------------------\n",
        "X_test_encoded=sm.add_constant(X_test_encoded)\n",
        "#Make sure only the significant variables in the test data are selected\n",
        "X_test_sig_vars=X_test_encoded[significant_vars]\n",
        "X_test_sig_vars\n",
        "y_prob=final_logit_model.predict(X_test_sig_vars)\n",
        "#y_prob holds the probability values for each record in the test data"
      ]
    },
    {
      "cell_type": "code",
      "execution_count": 75,
      "id": "6f3672ae",
      "metadata": {
        "colab": {
          "base_uri": "https://localhost:8080/",
          "height": 458
        },
        "id": "6f3672ae",
        "outputId": "448bb647-e822-401a-ecf0-1c5ec34b25a3"
      },
      "outputs": [
        {
          "output_type": "execute_result",
          "data": {
            "text/plain": [
              "1992    0.520382\n",
              "247     0.361938\n",
              "69      0.519258\n",
              "299     0.517389\n",
              "231     0.392041\n",
              "          ...   \n",
              "1337    0.043036\n",
              "2013    0.512244\n",
              "1966    0.076563\n",
              "1274    0.374847\n",
              "482     0.076045\n",
              "Length: 629, dtype: float64"
            ],
            "text/html": [
              "<div>\n",
              "<style scoped>\n",
              "    .dataframe tbody tr th:only-of-type {\n",
              "        vertical-align: middle;\n",
              "    }\n",
              "\n",
              "    .dataframe tbody tr th {\n",
              "        vertical-align: top;\n",
              "    }\n",
              "\n",
              "    .dataframe thead th {\n",
              "        text-align: right;\n",
              "    }\n",
              "</style>\n",
              "<table border=\"1\" class=\"dataframe\">\n",
              "  <thead>\n",
              "    <tr style=\"text-align: right;\">\n",
              "      <th></th>\n",
              "      <th>0</th>\n",
              "    </tr>\n",
              "  </thead>\n",
              "  <tbody>\n",
              "    <tr>\n",
              "      <th>1992</th>\n",
              "      <td>0.520382</td>\n",
              "    </tr>\n",
              "    <tr>\n",
              "      <th>247</th>\n",
              "      <td>0.361938</td>\n",
              "    </tr>\n",
              "    <tr>\n",
              "      <th>69</th>\n",
              "      <td>0.519258</td>\n",
              "    </tr>\n",
              "    <tr>\n",
              "      <th>299</th>\n",
              "      <td>0.517389</td>\n",
              "    </tr>\n",
              "    <tr>\n",
              "      <th>231</th>\n",
              "      <td>0.392041</td>\n",
              "    </tr>\n",
              "    <tr>\n",
              "      <th>...</th>\n",
              "      <td>...</td>\n",
              "    </tr>\n",
              "    <tr>\n",
              "      <th>1337</th>\n",
              "      <td>0.043036</td>\n",
              "    </tr>\n",
              "    <tr>\n",
              "      <th>2013</th>\n",
              "      <td>0.512244</td>\n",
              "    </tr>\n",
              "    <tr>\n",
              "      <th>1966</th>\n",
              "      <td>0.076563</td>\n",
              "    </tr>\n",
              "    <tr>\n",
              "      <th>1274</th>\n",
              "      <td>0.374847</td>\n",
              "    </tr>\n",
              "    <tr>\n",
              "      <th>482</th>\n",
              "      <td>0.076045</td>\n",
              "    </tr>\n",
              "  </tbody>\n",
              "</table>\n",
              "<p>629 rows × 1 columns</p>\n",
              "</div><br><label><b>dtype:</b> float64</label>"
            ]
          },
          "metadata": {},
          "execution_count": 75
        }
      ],
      "source": [
        "y_prob"
      ]
    },
    {
      "cell_type": "code",
      "execution_count": 76,
      "id": "f826e8f4",
      "metadata": {
        "id": "f826e8f4"
      },
      "outputs": [],
      "source": [
        "#Create a dataframe to store the test data's Y value and the predicted probability value\n",
        "#The original admit column is stored as \"actual_Y\"\n",
        "#The predicted prob is stored in y_prob\n",
        "y_pred_df = pd.DataFrame( { \"actual_Y\": y_test,\n",
        "\"predicted_prob\":y_prob})\n"
      ]
    },
    {
      "cell_type": "code",
      "execution_count": 77,
      "id": "0ff84ef4",
      "metadata": {
        "colab": {
          "base_uri": "https://localhost:8080/"
        },
        "id": "0ff84ef4",
        "outputId": "2872b32d-1b37-4e57-8721-8f9096350d3d"
      },
      "outputs": [
        {
          "output_type": "stream",
          "name": "stdout",
          "text": [
            "     actual_Y  predicted_prob\n",
            "1992        0        0.520382\n",
            "247         0        0.361938\n",
            "69          1        0.519258\n",
            "299         0        0.517389\n",
            "231         1        0.392041\n"
          ]
        }
      ],
      "source": [
        "print(y_pred_df.head())"
      ]
    },
    {
      "cell_type": "code",
      "execution_count": 78,
      "id": "65ab6ea0",
      "metadata": {
        "colab": {
          "base_uri": "https://localhost:8080/"
        },
        "id": "65ab6ea0",
        "outputId": "736ad708-04c8-422c-e88d-021bca89424b"
      },
      "outputs": [
        {
          "output_type": "stream",
          "name": "stdout",
          "text": [
            "     actual_Y  predicted_prob  predicted_Y\n",
            "1992        0        0.520382            1\n",
            "247         0        0.361938            0\n",
            "69          1        0.519258            1\n",
            "299         0        0.517389            1\n",
            "231         1        0.392041            0\n"
          ]
        }
      ],
      "source": [
        "##---------------------------------\n",
        "##  Based on default cut-off -0.5\n",
        "##---------------------------------\n",
        "y_pred_df['predicted_Y'] = y_pred_df.predicted_prob.map(\n",
        "lambda x: 1 if x >= 0.5 else 0)\n",
        "print(y_pred_df.head())"
      ]
    },
    {
      "cell_type": "code",
      "execution_count": 79,
      "id": "c50687ea",
      "metadata": {
        "colab": {
          "base_uri": "https://localhost:8080/"
        },
        "id": "c50687ea",
        "outputId": "c150a5f5-64be-4eb2-d322-bc4a5c8398b3"
      },
      "outputs": [
        {
          "output_type": "stream",
          "name": "stdout",
          "text": [
            "[[287 132]\n",
            " [ 79 131]]\n"
          ]
        }
      ],
      "source": [
        "from sklearn.metrics import confusion_matrix\n",
        "# Generating the confusion matrix using the DataFrame columns\n",
        "cm = confusion_matrix(y_pred_df['actual_Y'],y_pred_df['predicted_Y'])\n",
        "print(cm)"
      ]
    },
    {
      "cell_type": "code",
      "execution_count": 80,
      "id": "1af53e10",
      "metadata": {
        "colab": {
          "base_uri": "https://localhost:8080/",
          "height": 333
        },
        "id": "1af53e10",
        "outputId": "5ec6eeb1-ec20-4003-cf6d-914248aba57c"
      },
      "outputs": [
        {
          "output_type": "display_data",
          "data": {
            "text/plain": [
              "<Figure size 300x300 with 1 Axes>"
            ],
            "image/png": "[encoded data removed]"
          },
          "metadata": {}
        }
      ],
      "source": [
        "# Create a heatmap for the confusion matrix\n",
        "plt.figure(figsize=(3,3))\n",
        "sns.heatmap(cm, annot=True, fmt='d', cmap='Greens', cbar=False,\n",
        "            xticklabels=['Predicted 0', 'Predicted 1'],\n",
        "            yticklabels=['Actual 0', 'Actual 1'])\n",
        "plt.title('Confusion Matrix')\n",
        "plt.ylabel('Actual')\n",
        "plt.xlabel('Predicted')\n",
        "plt.show()"
      ]
    },
    {
      "cell_type": "code",
      "execution_count": 81,
      "id": "6e35e001",
      "metadata": {
        "colab": {
          "base_uri": "https://localhost:8080/"
        },
        "id": "6e35e001",
        "outputId": "bfea2218-87fa-48ce-bf4a-18883c906730"
      },
      "outputs": [
        {
          "output_type": "stream",
          "name": "stdout",
          "text": [
            "Sensitivity (Recall): 0.62\n",
            "Accuracy: 0.66\n"
          ]
        }
      ],
      "source": [
        "# Calculate Sensitivity (Recall), Specificity, and Accuracy using scikit-learn functions\n",
        "from sklearn.metrics import  accuracy_score, recall_score, precision_score\n",
        "sensitivity = recall_score(y_pred_df['actual_Y'], y_pred_df['predicted_Y'])\n",
        "accuracy = accuracy_score(y_pred_df['actual_Y'], y_pred_df['predicted_Y'])\n",
        "\n",
        "# Print metrics\n",
        "print(f\"Sensitivity (Recall): {sensitivity:.2f}\")\n",
        "print(f\"Accuracy: {accuracy:.2f}\")"
      ]
    },
    {
      "cell_type": "code",
      "execution_count": 82,
      "id": "bd2406b7",
      "metadata": {
        "colab": {
          "base_uri": "https://localhost:8080/"
        },
        "id": "bd2406b7",
        "outputId": "5f2dda65-314d-4569-98b8-8231f1b7698a"
      },
      "outputs": [
        {
          "output_type": "stream",
          "name": "stdout",
          "text": [
            "\n",
            "Classification Report:\n",
            "              precision    recall  f1-score   support\n",
            "\n",
            "           0       0.78      0.68      0.73       419\n",
            "           1       0.50      0.62      0.55       210\n",
            "\n",
            "    accuracy                           0.66       629\n",
            "   macro avg       0.64      0.65      0.64       629\n",
            "weighted avg       0.69      0.66      0.67       629\n",
            "\n"
          ]
        }
      ],
      "source": [
        "from sklearn.metrics import confusion_matrix, classification_report\n",
        "print(\"\\nClassification Report:\")\n",
        "print(classification_report(y_pred_df['actual_Y'],y_pred_df['predicted_Y']))"
      ]
    },
    {
      "cell_type": "code",
      "execution_count": 83,
      "id": "66d5da30",
      "metadata": {
        "id": "66d5da30"
      },
      "outputs": [],
      "source": [
        "#Implications/ Recommendations"
      ]
    },
    {
      "cell_type": "code",
      "execution_count": 84,
      "id": "c9aaac5d",
      "metadata": {
        "id": "c9aaac5d"
      },
      "outputs": [],
      "source": [
        "import numpy as np\n",
        "import pandas as pd\n",
        "from sklearn.metrics import confusion_matrix\n",
        "\n",
        "def compute_sensitivity_table(y_actual, y_prob, specific_thresholds=np.arange(0.1, 0.5, 0.01)):\n",
        "    \"\"\"\n",
        "    This function computes and prints a table of sensitivity (TPR) values for specified thresholds (0.1 to 0.5).\n",
        "\n",
        "    Parameters:\n",
        "    y_actual: array-like\n",
        "        The actual binary labels.\n",
        "    y_prob: array-like\n",
        "        The predicted probabilities for the positive class.\n",
        "    specific_thresholds: array-like, optional\n",
        "        The specific thresholds for which to compute sensitivity. Default is np.arange(0.1, 0.5, 0.01).\n",
        "    \"\"\"\n",
        "\n",
        "    results = []  # List to store results for the table\n",
        "\n",
        "    for threshold in specific_thresholds:\n",
        "        # Convert predicted probabilities to binary predictions based on the threshold\n",
        "        y_pred = (y_prob >= threshold).astype(int)\n",
        "\n",
        "        # Get the confusion matrix\n",
        "        tn, fp, fn, tp = confusion_matrix(y_actual, y_pred).ravel()\n",
        "\n",
        "        # Calculate TPR (Sensitivity)\n",
        "        tpr = tp / (tp + fn) if (tp + fn) > 0 else 0  # Avoid division by zero\n",
        "\n",
        "        # Append results\n",
        "        results.append({'Threshold': threshold, 'Sensitivity (TPR)': tpr})\n",
        "\n",
        "    # Create a DataFrame for better formatting\n",
        "    sensitivity_table = pd.DataFrame(results)\n",
        "\n",
        "    # Print the sensitivity table\n",
        "    print(sensitivity_table)"
      ]
    },
    {
      "cell_type": "code",
      "execution_count": 85,
      "id": "c323d472",
      "metadata": {
        "colab": {
          "base_uri": "https://localhost:8080/"
        },
        "id": "c323d472",
        "outputId": "e662b20b-e39d-4cda-8abc-dcb774f3b6c0"
      },
      "outputs": [
        {
          "output_type": "stream",
          "name": "stdout",
          "text": [
            "    Threshold  Sensitivity (TPR)\n",
            "0        0.10           0.952381\n",
            "1        0.11           0.933333\n",
            "2        0.12           0.933333\n",
            "3        0.13           0.933333\n",
            "4        0.14           0.933333\n",
            "5        0.15           0.933333\n",
            "6        0.16           0.928571\n",
            "7        0.17           0.928571\n",
            "8        0.18           0.923810\n",
            "9        0.19           0.923810\n",
            "10       0.20           0.923810\n",
            "11       0.21           0.923810\n",
            "12       0.22           0.923810\n",
            "13       0.23           0.919048\n",
            "14       0.24           0.919048\n",
            "15       0.25           0.919048\n",
            "16       0.26           0.919048\n",
            "17       0.27           0.914286\n",
            "18       0.28           0.914286\n",
            "19       0.29           0.914286\n",
            "20       0.30           0.904762\n",
            "21       0.31           0.904762\n",
            "22       0.32           0.904762\n",
            "23       0.33           0.900000\n",
            "24       0.34           0.900000\n",
            "25       0.35           0.895238\n",
            "26       0.36           0.895238\n",
            "27       0.37           0.871429\n",
            "28       0.38           0.861905\n",
            "29       0.39           0.847619\n",
            "30       0.40           0.761905\n",
            "31       0.41           0.761905\n",
            "32       0.42           0.757143\n",
            "33       0.43           0.757143\n",
            "34       0.44           0.757143\n",
            "35       0.45           0.752381\n",
            "36       0.46           0.752381\n",
            "37       0.47           0.752381\n",
            "38       0.48           0.733333\n",
            "39       0.49           0.700000\n"
          ]
        }
      ],
      "source": [
        "compute_sensitivity_table(y_pred_df['actual_Y'], y_pred_df['predicted_prob'])"
      ]
    },
    {
      "cell_type": "code",
      "source": [
        "from sklearn.metrics import roc_curve, roc_auc_score\n",
        "\n",
        "# Calculate the false positive rate (fpr), true positive rate (tpr), and thresholds\n",
        "fpr, tpr, thresholds = roc_curve(y_pred_df['actual_Y'], y_pred_df['predicted_prob'])\n",
        "\n",
        "# Calculate the area under the ROC curve (AUC)\n",
        "auc = roc_auc_score(y_pred_df['actual_Y'], y_pred_df['predicted_prob'])\n",
        "\n",
        "# Plot the ROC curve\n",
        "plt.figure(figsize=(8, 6))\n",
        "plt.plot(fpr, tpr, label='ROC curve (AUC = %0.2f)' % auc)\n",
        "plt.plot([0, 1], [0, 1], 'k--')  # Diagonal line representing random guessing\n",
        "plt.xlabel('False Positive Rate')\n",
        "plt.ylabel('True Positive Rate')\n",
        "plt.title('Receiver Operating Characteristic (ROC) Curve')\n",
        "plt.legend(loc='lower right')\n",
        "plt.show()\n"
      ],
      "metadata": {
        "colab": {
          "base_uri": "https://localhost:8080/",
          "height": 564
        },
        "id": "BNNgoHzXva8f",
        "outputId": "c166f92a-b706-4cc8-8e60-44c93050eca4"
      },
      "id": "BNNgoHzXva8f",
      "execution_count": 86,
      "outputs": [
        {
          "output_type": "display_data",
          "data": {
            "text/plain": [
              "<Figure size 800x600 with 1 Axes>"
            ],
            "image/png": "[encoded data removed]"
          },
          "metadata": {}
        }
      ]
    },
    {
      "cell_type": "markdown",
      "source": [
        "### Interpretation"
      ],
      "metadata": {
        "id": "bZHPVqpNIpr4"
      },
      "id": "bZHPVqpNIpr4"
    },
    {
      "cell_type": "markdown",
      "source": [
        "## Default =1 -> Positive Class -> Class of our Interest\n",
        "- Right now Sensitivity is very low = 62%\n",
        "- That why the Model is not good at making the\n",
        "   current Business Decision on Predicting if a business would deafult or not\n",
        "- Model not recommend at 0.5 Cutoff\n",
        "- We can achieve a Sensiitivity of 90% at 0.34 threshold, so it can be the recommended cutoff to build the model"
      ],
      "metadata": {
        "id": "13CEWdrZwxuV"
      },
      "id": "13CEWdrZwxuV"
    },
    {
      "cell_type": "markdown",
      "source": [
        "## Optimising the Cutoff value"
      ],
      "metadata": {
        "id": "2lnyCiMFRk5j"
      },
      "id": "2lnyCiMFRk5j"
    },
    {
      "cell_type": "markdown",
      "source": [
        "at cut-off = 0.34 we are getting 90% sensitivity"
      ],
      "metadata": {
        "id": "_gO8ipQ4Rk8D"
      },
      "id": "_gO8ipQ4Rk8D"
    },
    {
      "cell_type": "code",
      "source": [
        "y_pred_df['predicted_Y_0.34_cutoff'] = y_pred_df.predicted_prob.map(\n",
        "lambda x: 1 if x >= 0.34 else 0)\n",
        "print(y_pred_df.head())"
      ],
      "metadata": {
        "colab": {
          "base_uri": "https://localhost:8080/"
        },
        "id": "1Fhq-0leRwb3",
        "outputId": "086b9007-f7af-4ffb-bc3a-c096f3d1d6c6"
      },
      "id": "1Fhq-0leRwb3",
      "execution_count": 87,
      "outputs": [
        {
          "output_type": "stream",
          "name": "stdout",
          "text": [
            "     actual_Y  predicted_prob  predicted_Y  predicted_Y_0.34_cutoff\n",
            "1992        0        0.520382            1                        1\n",
            "247         0        0.361938            0                        1\n",
            "69          1        0.519258            1                        1\n",
            "299         0        0.517389            1                        1\n",
            "231         1        0.392041            0                        1\n"
          ]
        }
      ]
    },
    {
      "cell_type": "code",
      "source": [
        "cm = confusion_matrix(y_pred_df['actual_Y'],y_pred_df['predicted_Y_0.34_cutoff'])\n",
        "print(cm)"
      ],
      "metadata": {
        "colab": {
          "base_uri": "https://localhost:8080/"
        },
        "id": "vDj_f0EqSEwE",
        "outputId": "9632a548-db73-48c3-f70d-e53cf4c8011d"
      },
      "id": "vDj_f0EqSEwE",
      "execution_count": 90,
      "outputs": [
        {
          "output_type": "stream",
          "name": "stdout",
          "text": [
            "[[214 205]\n",
            " [ 21 189]]\n"
          ]
        }
      ]
    },
    {
      "cell_type": "code",
      "source": [
        "sensitivity = recall_score(y_pred_df['actual_Y'], y_pred_df['predicted_Y_0.34_cutoff'])\n",
        "accuracy = accuracy_score(y_pred_df['actual_Y'], y_pred_df['predicted_Y_0.34_cutoff'])\n",
        "\n",
        "# Print metrics\n",
        "print(f\"Sensitivity (Recall): {sensitivity:.2f}\")\n",
        "print(f\"Accuracy: {accuracy:.2f}\")"
      ],
      "metadata": {
        "colab": {
          "base_uri": "https://localhost:8080/"
        },
        "id": "QzWcW1pOSLkG",
        "outputId": "6f7b3159-476d-46f9-ae08-b056fa2522f9"
      },
      "id": "QzWcW1pOSLkG",
      "execution_count": 91,
      "outputs": [
        {
          "output_type": "stream",
          "name": "stdout",
          "text": [
            "Sensitivity (Recall): 0.90\n",
            "Accuracy: 0.64\n"
          ]
        }
      ]
    },
    {
      "cell_type": "code",
      "source": [
        "print(\"\\nClassification Report:\")\n",
        "print(classification_report(y_pred_df['actual_Y'],y_pred_df['predicted_Y_0.34_cutoff']))"
      ],
      "metadata": {
        "colab": {
          "base_uri": "https://localhost:8080/"
        },
        "id": "cJujtlVVSPjq",
        "outputId": "1ac92721-63b1-4fd5-9d1c-3f4180d72b42"
      },
      "id": "cJujtlVVSPjq",
      "execution_count": 92,
      "outputs": [
        {
          "output_type": "stream",
          "name": "stdout",
          "text": [
            "\n",
            "Classification Report:\n",
            "              precision    recall  f1-score   support\n",
            "\n",
            "           0       0.91      0.51      0.65       419\n",
            "           1       0.48      0.90      0.63       210\n",
            "\n",
            "    accuracy                           0.64       629\n",
            "   macro avg       0.70      0.71      0.64       629\n",
            "weighted avg       0.77      0.64      0.64       629\n",
            "\n"
          ]
        }
      ]
    },
    {
      "cell_type": "code",
      "source": [
        "# though we are getting 90% sensisitivity, the specificity has gone down massively which is not a optimal trade -off"
      ],
      "metadata": {
        "id": "6ZSIcm8tSh1D"
      },
      "id": "6ZSIcm8tSh1D",
      "execution_count": 93,
      "outputs": []
    },
    {
      "cell_type": "code",
      "source": [
        "# so, we need to have a certian cut off value for which we can get a good trade -off between sensitivity and specificity"
      ],
      "metadata": {
        "id": "E-9HgfVyS9Kj"
      },
      "id": "E-9HgfVyS9Kj",
      "execution_count": 94,
      "outputs": []
    },
    {
      "cell_type": "code",
      "source": [
        "# checking with cut off = 0.4"
      ],
      "metadata": {
        "id": "cSSxSjPyTGu3"
      },
      "id": "cSSxSjPyTGu3",
      "execution_count": 95,
      "outputs": []
    },
    {
      "cell_type": "code",
      "source": [
        "y_pred_df['predicted_Y_0.40_cutoff'] = y_pred_df.predicted_prob.map(\n",
        "lambda x: 1 if x >= 0.40 else 0)\n",
        "y_pred_df.head()"
      ],
      "metadata": {
        "colab": {
          "base_uri": "https://localhost:8080/",
          "height": 206
        },
        "id": "-pcxUKXKTLJO",
        "outputId": "d8c3029c-b2ad-4090-839b-0bcb24d43b9d"
      },
      "id": "-pcxUKXKTLJO",
      "execution_count": 97,
      "outputs": [
        {
          "output_type": "execute_result",
          "data": {
            "text/plain": [
              "     actual_Y  predicted_prob  predicted_Y  predicted_Y_0.34_cutoff  \\\n",
              "1992        0        0.520382            1                        1   \n",
              "247         0        0.361938            0                        1   \n",
              "69          1        0.519258            1                        1   \n",
              "299         0        0.517389            1                        1   \n",
              "231         1        0.392041            0                        1   \n",
              "\n",
              "      predicted_Y_0.40_cutoff  \n",
              "1992                        1  \n",
              "247                         0  \n",
              "69                          1  \n",
              "299                         1  \n",
              "231                         0  "
            ],
            "text/html": [
              "\n",
              "  <div id=\"df-0301685a-4798-4fc0-b105-db7fe52c3229\" class=\"colab-df-container\">\n",
              "    <div>\n",
              "<style scoped>\n",
              "    .dataframe tbody tr th:only-of-type {\n",
              "        vertical-align: middle;\n",
              "    }\n",
              "\n",
              "    .dataframe tbody tr th {\n",
              "        vertical-align: top;\n",
              "    }\n",
              "\n",
              "    .dataframe thead th {\n",
              "        text-align: right;\n",
              "    }\n",
              "</style>\n",
              "<table border=\"1\" class=\"dataframe\">\n",
              "  <thead>\n",
              "    <tr style=\"text-align: right;\">\n",
              "      <th></th>\n",
              "      <th>actual_Y</th>\n",
              "      <th>predicted_prob</th>\n",
              "      <th>predicted_Y</th>\n",
              "      <th>predicted_Y_0.34_cutoff</th>\n",
              "      <th>predicted_Y_0.40_cutoff</th>\n",
              "    </tr>\n",
              "  </thead>\n",
              "  <tbody>\n",
              "    <tr>\n",
              "      <th>1992</th>\n",
              "      <td>0</td>\n",
              "      <td>0.520382</td>\n",
              "      <td>1</td>\n",
              "      <td>1</td>\n",
              "      <td>1</td>\n",
              "    </tr>\n",
              "    <tr>\n",
              "      <th>247</th>\n",
              "      <td>0</td>\n",
              "      <td>0.361938</td>\n",
              "      <td>0</td>\n",
              "      <td>1</td>\n",
              "      <td>0</td>\n",
              "    </tr>\n",
              "    <tr>\n",
              "      <th>69</th>\n",
              "      <td>1</td>\n",
              "      <td>0.519258</td>\n",
              "      <td>1</td>\n",
              "      <td>1</td>\n",
              "      <td>1</td>\n",
              "    </tr>\n",
              "    <tr>\n",
              "      <th>299</th>\n",
              "      <td>0</td>\n",
              "      <td>0.517389</td>\n",
              "      <td>1</td>\n",
              "      <td>1</td>\n",
              "      <td>1</td>\n",
              "    </tr>\n",
              "    <tr>\n",
              "      <th>231</th>\n",
              "      <td>1</td>\n",
              "      <td>0.392041</td>\n",
              "      <td>0</td>\n",
              "      <td>1</td>\n",
              "      <td>0</td>\n",
              "    </tr>\n",
              "  </tbody>\n",
              "</table>\n",
              "</div>\n",
              "    <div class=\"colab-df-buttons\">\n",
              "\n",
              "  <div class=\"colab-df-container\">\n",
              "    <button class=\"colab-df-convert\" onclick=\"convertToInteractive('df-0301685a-4798-4fc0-b105-db7fe52c3229')\"\n",
              "            title=\"Convert this dataframe to an interactive table.\"\n",
              "            style=\"display:none;\">\n",
              "\n",
              "  <svg xmlns=\"http://www.w3.org/2000/svg\" height=\"24px\" viewBox=\"0 -960 960 960\">\n",
              "    <path d=\"M120-120v-720h720v720H120Zm60-500h600v-160H180v160Zm220 220h160v-160H400v160Zm0 220h160v-160H400v160ZM180-400h160v-160H180v160Zm440 0h160v-160H620v160ZM180-180h160v-160H180v160Zm440 0h160v-160H620v160Z\"/>\n",
              "  </svg>\n",
              "    </button>\n",
              "\n",
              "  <style>\n",
              "    .colab-df-container {\n",
              "      display:flex;\n",
              "      gap: 12px;\n",
              "    }\n",
              "\n",
              "    .colab-df-convert {\n",
              "      background-color: #E8F0FE;\n",
              "      border: none;\n",
              "      border-radius: 50%;\n",
              "      cursor: pointer;\n",
              "      display: none;\n",
              "      fill: #1967D2;\n",
              "      height: 32px;\n",
              "      padding: 0 0 0 0;\n",
              "      width: 32px;\n",
              "    }\n",
              "\n",
              "    .colab-df-convert:hover {\n",
              "      background-color: #E2EBFA;\n",
              "      box-shadow: 0px 1px 2px rgba(60, 64, 67, 0.3), 0px 1px 3px 1px rgba(60, 64, 67, 0.15);\n",
              "      fill: #174EA6;\n",
              "    }\n",
              "\n",
              "    .colab-df-buttons div {\n",
              "      margin-bottom: 4px;\n",
              "    }\n",
              "\n",
              "    [theme=dark] .colab-df-convert {\n",
              "      background-color: #3B4455;\n",
              "      fill: #D2E3FC;\n",
              "    }\n",
              "\n",
              "    [theme=dark] .colab-df-convert:hover {\n",
              "      background-color: #434B5C;\n",
              "      box-shadow: 0px 1px 3px 1px rgba(0, 0, 0, 0.15);\n",
              "      filter: drop-shadow(0px 1px 2px rgba(0, 0, 0, 0.3));\n",
              "      fill: #FFFFFF;\n",
              "    }\n",
              "  </style>\n",
              "\n",
              "    <script>\n",
              "      const buttonEl =\n",
              "        document.querySelector('#df-0301685a-4798-4fc0-b105-db7fe52c3229 button.colab-df-convert');\n",
              "      buttonEl.style.display =\n",
              "        google.colab.kernel.accessAllowed ? 'block' : 'none';\n",
              "\n",
              "      async function convertToInteractive(key) {\n",
              "        const element = document.querySelector('#df-0301685a-4798-4fc0-b105-db7fe52c3229');\n",
              "        const dataTable =\n",
              "          await google.colab.kernel.invokeFunction('convertToInteractive',\n",
              "                                                    [key], {});\n",
              "        if (!dataTable) return;\n",
              "\n",
              "        const docLinkHtml = 'Like what you see? Visit the ' +\n",
              "          '<a target=\"_blank\" href=https://colab.research.google.com/notebooks/data_table.ipynb>data table notebook</a>'\n",
              "          + ' to learn more about interactive tables.';\n",
              "        element.innerHTML = '';\n",
              "        dataTable['output_type'] = 'display_data';\n",
              "        await google.colab.output.renderOutput(dataTable, element);\n",
              "        const docLink = document.createElement('div');\n",
              "        docLink.innerHTML = docLinkHtml;\n",
              "        element.appendChild(docLink);\n",
              "      }\n",
              "    </script>\n",
              "  </div>\n",
              "\n",
              "\n",
              "<div id=\"df-6065fb09-1bb7-4c5d-8124-a62698aba4df\">\n",
              "  <button class=\"colab-df-quickchart\" onclick=\"quickchart('df-6065fb09-1bb7-4c5d-8124-a62698aba4df')\"\n",
              "            title=\"Suggest charts\"\n",
              "            style=\"display:none;\">\n",
              "\n",
              "<svg xmlns=\"http://www.w3.org/2000/svg\" height=\"24px\"viewBox=\"0 0 24 24\"\n",
              "     width=\"24px\">\n",
              "    <g>\n",
              "        <path d=\"M19 3H5c-1.1 0-2 .9-2 2v14c0 1.1.9 2 2 2h14c1.1 0 2-.9 2-2V5c0-1.1-.9-2-2-2zM9 17H7v-7h2v7zm4 0h-2V7h2v10zm4 0h-2v-4h2v4z\"/>\n",
              "    </g>\n",
              "</svg>\n",
              "  </button>\n",
              "\n",
              "<style>\n",
              "  .colab-df-quickchart {\n",
              "      --bg-color: #E8F0FE;\n",
              "      --fill-color: #1967D2;\n",
              "      --hover-bg-color: #E2EBFA;\n",
              "      --hover-fill-color: #174EA6;\n",
              "      --disabled-fill-color: #AAA;\n",
              "      --disabled-bg-color: #DDD;\n",
              "  }\n",
              "\n",
              "  [theme=dark] .colab-df-quickchart {\n",
              "      --bg-color: #3B4455;\n",
              "      --fill-color: #D2E3FC;\n",
              "      --hover-bg-color: #434B5C;\n",
              "      --hover-fill-color: #FFFFFF;\n",
              "      --disabled-bg-color: #3B4455;\n",
              "      --disabled-fill-color: #666;\n",
              "  }\n",
              "\n",
              "  .colab-df-quickchart {\n",
              "    background-color: var(--bg-color);\n",
              "    border: none;\n",
              "    border-radius: 50%;\n",
              "    cursor: pointer;\n",
              "    display: none;\n",
              "    fill: var(--fill-color);\n",
              "    height: 32px;\n",
              "    padding: 0;\n",
              "    width: 32px;\n",
              "  }\n",
              "\n",
              "  .colab-df-quickchart:hover {\n",
              "    background-color: var(--hover-bg-color);\n",
              "    box-shadow: 0 1px 2px rgba(60, 64, 67, 0.3), 0 1px 3px 1px rgba(60, 64, 67, 0.15);\n",
              "    fill: var(--button-hover-fill-color);\n",
              "  }\n",
              "\n",
              "  .colab-df-quickchart-complete:disabled,\n",
              "  .colab-df-quickchart-complete:disabled:hover {\n",
              "    background-color: var(--disabled-bg-color);\n",
              "    fill: var(--disabled-fill-color);\n",
              "    box-shadow: none;\n",
              "  }\n",
              "\n",
              "  .colab-df-spinner {\n",
              "    border: 2px solid var(--fill-color);\n",
              "    border-color: transparent;\n",
              "    border-bottom-color: var(--fill-color);\n",
              "    animation:\n",
              "      spin 1s steps(1) infinite;\n",
              "  }\n",
              "\n",
              "  @keyframes spin {\n",
              "    0% {\n",
              "      border-color: transparent;\n",
              "      border-bottom-color: var(--fill-color);\n",
              "      border-left-color: var(--fill-color);\n",
              "    }\n",
              "    20% {\n",
              "      border-color: transparent;\n",
              "      border-left-color: var(--fill-color);\n",
              "      border-top-color: var(--fill-color);\n",
              "    }\n",
              "    30% {\n",
              "      border-color: transparent;\n",
              "      border-left-color: var(--fill-color);\n",
              "      border-top-color: var(--fill-color);\n",
              "      border-right-color: var(--fill-color);\n",
              "    }\n",
              "    40% {\n",
              "      border-color: transparent;\n",
              "      border-right-color: var(--fill-color);\n",
              "      border-top-color: var(--fill-color);\n",
              "    }\n",
              "    60% {\n",
              "      border-color: transparent;\n",
              "      border-right-color: var(--fill-color);\n",
              "    }\n",
              "    80% {\n",
              "      border-color: transparent;\n",
              "      border-right-color: var(--fill-color);\n",
              "      border-bottom-color: var(--fill-color);\n",
              "    }\n",
              "    90% {\n",
              "      border-color: transparent;\n",
              "      border-bottom-color: var(--fill-color);\n",
              "    }\n",
              "  }\n",
              "</style>\n",
              "\n",
              "  <script>\n",
              "    async function quickchart(key) {\n",
              "      const quickchartButtonEl =\n",
              "        document.querySelector('#' + key + ' button');\n",
              "      quickchartButtonEl.disabled = true;  // To prevent multiple clicks.\n",
              "      quickchartButtonEl.classList.add('colab-df-spinner');\n",
              "      try {\n",
              "        const charts = await google.colab.kernel.invokeFunction(\n",
              "            'suggestCharts', [key], {});\n",
              "      } catch (error) {\n",
              "        console.error('Error during call to suggestCharts:', error);\n",
              "      }\n",
              "      quickchartButtonEl.classList.remove('colab-df-spinner');\n",
              "      quickchartButtonEl.classList.add('colab-df-quickchart-complete');\n",
              "    }\n",
              "    (() => {\n",
              "      let quickchartButtonEl =\n",
              "        document.querySelector('#df-6065fb09-1bb7-4c5d-8124-a62698aba4df button');\n",
              "      quickchartButtonEl.style.display =\n",
              "        google.colab.kernel.accessAllowed ? 'block' : 'none';\n",
              "    })();\n",
              "  </script>\n",
              "</div>\n",
              "\n",
              "    </div>\n",
              "  </div>\n"
            ],
            "application/vnd.google.colaboratory.intrinsic+json": {
              "type": "dataframe",
              "variable_name": "y_pred_df",
              "summary": "{\n  \"name\": \"y_pred_df\",\n  \"rows\": 629,\n  \"fields\": [\n    {\n      \"column\": \"actual_Y\",\n      \"properties\": {\n        \"dtype\": \"category\",\n        \"num_unique_values\": 2,\n        \"samples\": [\n          1,\n          0\n        ],\n        \"semantic_type\": \"\",\n        \"description\": \"\"\n      }\n    },\n    {\n      \"column\": \"predicted_prob\",\n      \"properties\": {\n        \"dtype\": \"number\",\n        \"std\": 0.20414322945844288,\n        \"min\": 0.00546235608478066,\n        \"max\": 0.5227289291910662,\n        \"num_unique_values\": 481,\n        \"samples\": [\n          0.5179515300488978,\n          0.364376775497256\n        ],\n        \"semantic_type\": \"\",\n        \"description\": \"\"\n      }\n    },\n    {\n      \"column\": \"predicted_Y\",\n      \"properties\": {\n        \"dtype\": \"number\",\n        \"std\": 0,\n        \"min\": 0,\n        \"max\": 1,\n        \"num_unique_values\": 2,\n        \"samples\": [\n          0,\n          1\n        ],\n        \"semantic_type\": \"\",\n        \"description\": \"\"\n      }\n    },\n    {\n      \"column\": \"predicted_Y_0.34_cutoff\",\n      \"properties\": {\n        \"dtype\": \"number\",\n        \"std\": 0,\n        \"min\": 0,\n        \"max\": 1,\n        \"num_unique_values\": 2,\n        \"samples\": [\n          0,\n          1\n        ],\n        \"semantic_type\": \"\",\n        \"description\": \"\"\n      }\n    },\n    {\n      \"column\": \"predicted_Y_0.40_cutoff\",\n      \"properties\": {\n        \"dtype\": \"number\",\n        \"std\": 0,\n        \"min\": 0,\n        \"max\": 1,\n        \"num_unique_values\": 2,\n        \"samples\": [\n          0,\n          1\n        ],\n        \"semantic_type\": \"\",\n        \"description\": \"\"\n      }\n    }\n  ]\n}"
            }
          },
          "metadata": {},
          "execution_count": 97
        }
      ]
    },
    {
      "cell_type": "code",
      "source": [
        "cm = confusion_matrix(y_pred_df['actual_Y'],y_pred_df['predicted_Y_0.40_cutoff'])\n",
        "print(cm)"
      ],
      "metadata": {
        "colab": {
          "base_uri": "https://localhost:8080/"
        },
        "id": "4Ok9A5RLTPjz",
        "outputId": "09affb13-59f4-44a8-f3dc-c0dee9ecf92e"
      },
      "id": "4Ok9A5RLTPjz",
      "execution_count": 98,
      "outputs": [
        {
          "output_type": "stream",
          "name": "stdout",
          "text": [
            "[[260 159]\n",
            " [ 50 160]]\n"
          ]
        }
      ]
    },
    {
      "cell_type": "code",
      "source": [
        "sensitivity = recall_score(y_pred_df['actual_Y'], y_pred_df['predicted_Y_0.40_cutoff'])\n",
        "accuracy = accuracy_score(y_pred_df['actual_Y'], y_pred_df['predicted_Y_0.40_cutoff'])\n",
        "\n",
        "# Print metrics\n",
        "print(f\"Sensitivity (Recall): {sensitivity:.2f}\")\n",
        "print(f\"Accuracy: {accuracy:.2f}\")"
      ],
      "metadata": {
        "colab": {
          "base_uri": "https://localhost:8080/"
        },
        "id": "PJV-l3V6TXa_",
        "outputId": "8333c32f-0400-4ee3-98b0-26dda39f5ecd"
      },
      "id": "PJV-l3V6TXa_",
      "execution_count": 99,
      "outputs": [
        {
          "output_type": "stream",
          "name": "stdout",
          "text": [
            "Sensitivity (Recall): 0.76\n",
            "Accuracy: 0.67\n"
          ]
        }
      ]
    },
    {
      "cell_type": "code",
      "source": [
        "print(\"\\nClassification Report:\")\n",
        "print(classification_report(y_pred_df['actual_Y'],y_pred_df['predicted_Y_0.40_cutoff']))"
      ],
      "metadata": {
        "colab": {
          "base_uri": "https://localhost:8080/"
        },
        "id": "CMO_PIT_Tbha",
        "outputId": "6704f55c-faac-4765-b2cf-e3f73eb93edb"
      },
      "id": "CMO_PIT_Tbha",
      "execution_count": 100,
      "outputs": [
        {
          "output_type": "stream",
          "name": "stdout",
          "text": [
            "\n",
            "Classification Report:\n",
            "              precision    recall  f1-score   support\n",
            "\n",
            "           0       0.84      0.62      0.71       419\n",
            "           1       0.50      0.76      0.60       210\n",
            "\n",
            "    accuracy                           0.67       629\n",
            "   macro avg       0.67      0.69      0.66       629\n",
            "weighted avg       0.73      0.67      0.68       629\n",
            "\n"
          ]
        }
      ]
    },
    {
      "cell_type": "markdown",
      "source": [
        "# Interpretation"
      ],
      "metadata": {
        "id": "p_XuZ6vAUP-A"
      },
      "id": "p_XuZ6vAUP-A"
    },
    {
      "cell_type": "markdown",
      "source": [
        "SO, in this final model we are able to improve the sensitivity from 62% to 76%\n",
        "\n",
        "with a Speciificity of 62% and accuracy of 67%\n",
        "\n",
        "So, this model can be used for predicting the High risk businesses who would default\n"
      ],
      "metadata": {
        "id": "ACSH9EYtUjoD"
      },
      "id": "ACSH9EYtUjoD"
    },
    {
      "cell_type": "code",
      "source": [],
      "metadata": {
        "id": "SHVQZ4j5UTJY"
      },
      "id": "SHVQZ4j5UTJY",
      "execution_count": null,
      "outputs": []
    }
  ],
  "metadata": {
    "kernelspec": {
      "display_name": "Python 3 (ipykernel)",
      "language": "python",
      "name": "python3"
    },
    "language_info": {
      "codemirror_mode": {
        "name": "ipython",
        "version": 3
      },
      "file_extension": ".py",
      "mimetype": "text/x-python",
      "name": "python",
      "nbconvert_exporter": "python",
      "pygments_lexer": "ipython3",
      "version": "3.10.9"
    },
    "colab": {
      "provenance": []
    }
  },
  "nbformat": 4,
  "nbformat_minor": 5
}