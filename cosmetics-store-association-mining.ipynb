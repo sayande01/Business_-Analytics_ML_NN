{
 "cells": [
  {
   "cell_type": "code",
   "execution_count": 1,
   "id": "5dd04cbb",
   "metadata": {
    "_cell_guid": "b1076dfc-b9ad-4769-8c92-a6c4dae69d19",
    "_uuid": "8f2839f25d086af736a60e9eeb907d3b93b6e0e5",
    "execution": {
     "iopub.execute_input": "2024-09-13T14:45:09.496679Z",
     "iopub.status.busy": "2024-09-13T14:45:09.496213Z",
     "iopub.status.idle": "2024-09-13T14:45:10.016208Z",
     "shell.execute_reply": "2024-09-13T14:45:10.014247Z"
    },
    "papermill": {
     "duration": 0.536531,
     "end_time": "2024-09-13T14:45:10.018997",
     "exception": false,
     "start_time": "2024-09-13T14:45:09.482466",
     "status": "completed"
    },
    "tags": []
   },
   "outputs": [
    {
     "name": "stdout",
     "output_type": "stream",
     "text": [
      "/kaggle/input/cosmetic/Cosmetics.xlsx\n"
     ]
    }
   ],
   "source": [
    "# This Python 3 environment comes with many helpful analytics libraries installed\n",
    "# It is defined by the kaggle/python Docker image: https://github.com/kaggle/docker-python\n",
    "# For example, here's several helpful packages to load\n",
    "\n",
    "import numpy as np # linear algebra\n",
    "import pandas as pd # data processing, CSV file I/O (e.g. pd.read_csv)\n",
    "import warnings\n",
    "warnings.filterwarnings('ignore',category = DeprecationWarning)\n",
    "\n",
    "# Input data files are available in the read-only \"../input/\" directory\n",
    "# For example, running this (by clicking run or pressing Shift+Enter) will list all files under the input directory\n",
    "\n",
    "import os\n",
    "for dirname, _, filenames in os.walk('/kaggle/input'):\n",
    "    for filename in filenames:\n",
    "        print(os.path.join(dirname, filename))\n",
    "\n",
    "# You can write up to 20GB to the current directory (/kaggle/working/) that gets preserved as output when you create a version using \"Save & Run All\" \n",
    "# You can also write temporary files to /kaggle/temp/, but they won't be saved outside of the current session"
   ]
  },
  {
   "cell_type": "code",
   "execution_count": 2,
   "id": "2eaf2fd4",
   "metadata": {
    "execution": {
     "iopub.execute_input": "2024-09-13T14:45:10.039978Z",
     "iopub.status.busy": "2024-09-13T14:45:10.039392Z",
     "iopub.status.idle": "2024-09-13T14:45:10.772786Z",
     "shell.execute_reply": "2024-09-13T14:45:10.770383Z"
    },
    "papermill": {
     "duration": 0.748116,
     "end_time": "2024-09-13T14:45:10.776484",
     "exception": false,
     "start_time": "2024-09-13T14:45:10.028368",
     "status": "completed"
    },
    "tags": []
   },
   "outputs": [],
   "source": [
    "df = pd.read_excel('/kaggle/input/cosmetic/Cosmetics.xlsx')"
   ]
  },
  {
   "cell_type": "code",
   "execution_count": 3,
   "id": "63e3bdfd",
   "metadata": {
    "execution": {
     "iopub.execute_input": "2024-09-13T14:45:10.798221Z",
     "iopub.status.busy": "2024-09-13T14:45:10.797587Z",
     "iopub.status.idle": "2024-09-13T14:45:10.827667Z",
     "shell.execute_reply": "2024-09-13T14:45:10.826186Z"
    },
    "papermill": {
     "duration": 0.043696,
     "end_time": "2024-09-13T14:45:10.830638",
     "exception": false,
     "start_time": "2024-09-13T14:45:10.786942",
     "status": "completed"
    },
    "tags": []
   },
   "outputs": [
    {
     "data": {
      "text/html": [
       "<div>\n",
       "<style scoped>\n",
       "    .dataframe tbody tr th:only-of-type {\n",
       "        vertical-align: middle;\n",
       "    }\n",
       "\n",
       "    .dataframe tbody tr th {\n",
       "        vertical-align: top;\n",
       "    }\n",
       "\n",
       "    .dataframe thead th {\n",
       "        text-align: right;\n",
       "    }\n",
       "</style>\n",
       "<table border=\"1\" class=\"dataframe\">\n",
       "  <thead>\n",
       "    <tr style=\"text-align: right;\">\n",
       "      <th></th>\n",
       "      <th>Trans_Id</th>\n",
       "      <th>Bag</th>\n",
       "      <th>Blush</th>\n",
       "      <th>Nail Polish</th>\n",
       "      <th>Brushes</th>\n",
       "      <th>Concealer</th>\n",
       "      <th>Eyebrow Pencils</th>\n",
       "      <th>Bronzer</th>\n",
       "      <th>Lip liner</th>\n",
       "      <th>Mascara</th>\n",
       "      <th>Eye shadow</th>\n",
       "      <th>Foundation</th>\n",
       "      <th>Lip Gloss</th>\n",
       "      <th>Lipstick</th>\n",
       "      <th>Eyeliner</th>\n",
       "    </tr>\n",
       "  </thead>\n",
       "  <tbody>\n",
       "    <tr>\n",
       "      <th>0</th>\n",
       "      <td>1</td>\n",
       "      <td>0</td>\n",
       "      <td>1</td>\n",
       "      <td>1</td>\n",
       "      <td>1</td>\n",
       "      <td>1</td>\n",
       "      <td>0</td>\n",
       "      <td>1</td>\n",
       "      <td>1</td>\n",
       "      <td>1</td>\n",
       "      <td>0</td>\n",
       "      <td>0</td>\n",
       "      <td>0</td>\n",
       "      <td>0</td>\n",
       "      <td>1</td>\n",
       "    </tr>\n",
       "    <tr>\n",
       "      <th>1</th>\n",
       "      <td>2</td>\n",
       "      <td>0</td>\n",
       "      <td>0</td>\n",
       "      <td>1</td>\n",
       "      <td>0</td>\n",
       "      <td>1</td>\n",
       "      <td>0</td>\n",
       "      <td>1</td>\n",
       "      <td>1</td>\n",
       "      <td>0</td>\n",
       "      <td>0</td>\n",
       "      <td>1</td>\n",
       "      <td>1</td>\n",
       "      <td>0</td>\n",
       "      <td>0</td>\n",
       "    </tr>\n",
       "    <tr>\n",
       "      <th>2</th>\n",
       "      <td>3</td>\n",
       "      <td>0</td>\n",
       "      <td>1</td>\n",
       "      <td>0</td>\n",
       "      <td>0</td>\n",
       "      <td>1</td>\n",
       "      <td>1</td>\n",
       "      <td>1</td>\n",
       "      <td>1</td>\n",
       "      <td>1</td>\n",
       "      <td>1</td>\n",
       "      <td>1</td>\n",
       "      <td>1</td>\n",
       "      <td>1</td>\n",
       "      <td>0</td>\n",
       "    </tr>\n",
       "    <tr>\n",
       "      <th>3</th>\n",
       "      <td>4</td>\n",
       "      <td>0</td>\n",
       "      <td>0</td>\n",
       "      <td>1</td>\n",
       "      <td>1</td>\n",
       "      <td>1</td>\n",
       "      <td>0</td>\n",
       "      <td>1</td>\n",
       "      <td>0</td>\n",
       "      <td>0</td>\n",
       "      <td>0</td>\n",
       "      <td>1</td>\n",
       "      <td>0</td>\n",
       "      <td>0</td>\n",
       "      <td>1</td>\n",
       "    </tr>\n",
       "    <tr>\n",
       "      <th>4</th>\n",
       "      <td>5</td>\n",
       "      <td>0</td>\n",
       "      <td>1</td>\n",
       "      <td>0</td>\n",
       "      <td>0</td>\n",
       "      <td>1</td>\n",
       "      <td>0</td>\n",
       "      <td>1</td>\n",
       "      <td>1</td>\n",
       "      <td>1</td>\n",
       "      <td>1</td>\n",
       "      <td>0</td>\n",
       "      <td>1</td>\n",
       "      <td>1</td>\n",
       "      <td>0</td>\n",
       "    </tr>\n",
       "  </tbody>\n",
       "</table>\n",
       "</div>"
      ],
      "text/plain": [
       "   Trans_Id  Bag  Blush  Nail Polish  Brushes  Concealer  Eyebrow Pencils  \\\n",
       "0         1    0      1            1        1          1                0   \n",
       "1         2    0      0            1        0          1                0   \n",
       "2         3    0      1            0        0          1                1   \n",
       "3         4    0      0            1        1          1                0   \n",
       "4         5    0      1            0        0          1                0   \n",
       "\n",
       "   Bronzer  Lip liner  Mascara  Eye shadow  Foundation  Lip Gloss  Lipstick  \\\n",
       "0        1          1        1           0           0          0         0   \n",
       "1        1          1        0           0           1          1         0   \n",
       "2        1          1        1           1           1          1         1   \n",
       "3        1          0        0           0           1          0         0   \n",
       "4        1          1        1           1           0          1         1   \n",
       "\n",
       "   Eyeliner  \n",
       "0         1  \n",
       "1         0  \n",
       "2         0  \n",
       "3         1  \n",
       "4         0  "
      ]
     },
     "execution_count": 3,
     "metadata": {},
     "output_type": "execute_result"
    }
   ],
   "source": [
    "df.head()"
   ]
  },
  {
   "cell_type": "code",
   "execution_count": 4,
   "id": "c02330ed",
   "metadata": {
    "execution": {
     "iopub.execute_input": "2024-09-13T14:45:10.852706Z",
     "iopub.status.busy": "2024-09-13T14:45:10.851961Z",
     "iopub.status.idle": "2024-09-13T14:45:10.860115Z",
     "shell.execute_reply": "2024-09-13T14:45:10.858920Z"
    },
    "papermill": {
     "duration": 0.022121,
     "end_time": "2024-09-13T14:45:10.862676",
     "exception": false,
     "start_time": "2024-09-13T14:45:10.840555",
     "status": "completed"
    },
    "tags": []
   },
   "outputs": [
    {
     "data": {
      "text/plain": [
       "(1000, 15)"
      ]
     },
     "execution_count": 4,
     "metadata": {},
     "output_type": "execute_result"
    }
   ],
   "source": [
    "df.shape"
   ]
  },
  {
   "cell_type": "code",
   "execution_count": 5,
   "id": "480f57cd",
   "metadata": {
    "execution": {
     "iopub.execute_input": "2024-09-13T14:45:10.885403Z",
     "iopub.status.busy": "2024-09-13T14:45:10.884931Z",
     "iopub.status.idle": "2024-09-13T14:45:10.896323Z",
     "shell.execute_reply": "2024-09-13T14:45:10.894634Z"
    },
    "papermill": {
     "duration": 0.025748,
     "end_time": "2024-09-13T14:45:10.899166",
     "exception": false,
     "start_time": "2024-09-13T14:45:10.873418",
     "status": "completed"
    },
    "tags": []
   },
   "outputs": [
    {
     "data": {
      "text/plain": [
       "Trans_Id           0\n",
       "Bag                0\n",
       "Blush              0\n",
       "Nail Polish        0\n",
       "Brushes            0\n",
       "Concealer          0\n",
       "Eyebrow Pencils    0\n",
       "Bronzer            0\n",
       "Lip liner          0\n",
       "Mascara            0\n",
       "Eye shadow         0\n",
       "Foundation         0\n",
       "Lip Gloss          0\n",
       "Lipstick           0\n",
       "Eyeliner           0\n",
       "dtype: int64"
      ]
     },
     "execution_count": 5,
     "metadata": {},
     "output_type": "execute_result"
    }
   ],
   "source": [
    "df.isnull().sum()"
   ]
  },
  {
   "cell_type": "code",
   "execution_count": 6,
   "id": "439c2934",
   "metadata": {
    "execution": {
     "iopub.execute_input": "2024-09-13T14:45:10.921304Z",
     "iopub.status.busy": "2024-09-13T14:45:10.920854Z",
     "iopub.status.idle": "2024-09-13T14:45:10.929524Z",
     "shell.execute_reply": "2024-09-13T14:45:10.928210Z"
    },
    "papermill": {
     "duration": 0.022995,
     "end_time": "2024-09-13T14:45:10.932300",
     "exception": false,
     "start_time": "2024-09-13T14:45:10.909305",
     "status": "completed"
    },
    "tags": []
   },
   "outputs": [
    {
     "data": {
      "text/plain": [
       "Index(['Trans_Id', 'Bag', 'Blush', 'Nail Polish', 'Brushes', 'Concealer',\n",
       "       'Eyebrow Pencils', 'Bronzer', 'Lip liner', 'Mascara', 'Eye shadow',\n",
       "       'Foundation', 'Lip Gloss', 'Lipstick', 'Eyeliner'],\n",
       "      dtype='object')"
      ]
     },
     "execution_count": 6,
     "metadata": {},
     "output_type": "execute_result"
    }
   ],
   "source": [
    "df.columns"
   ]
  },
  {
   "cell_type": "code",
   "execution_count": 7,
   "id": "9681c553",
   "metadata": {
    "execution": {
     "iopub.execute_input": "2024-09-13T14:45:10.955359Z",
     "iopub.status.busy": "2024-09-13T14:45:10.954883Z",
     "iopub.status.idle": "2024-09-13T14:45:10.966411Z",
     "shell.execute_reply": "2024-09-13T14:45:10.964910Z"
    },
    "papermill": {
     "duration": 0.026199,
     "end_time": "2024-09-13T14:45:10.969198",
     "exception": false,
     "start_time": "2024-09-13T14:45:10.942999",
     "status": "completed"
    },
    "tags": []
   },
   "outputs": [],
   "source": [
    "selected_columns_df = df[['Bag', 'Blush', 'Nail Polish', 'Brushes', 'Concealer',\n",
    "       'Eyebrow Pencils', 'Bronzer', 'Lip liner', 'Mascara', 'Eye shadow',\n",
    "       'Foundation', 'Lip Gloss', 'Lipstick', 'Eyeliner']]"
   ]
  },
  {
   "cell_type": "code",
   "execution_count": 8,
   "id": "62d186bd",
   "metadata": {
    "execution": {
     "iopub.execute_input": "2024-09-13T14:45:10.991534Z",
     "iopub.status.busy": "2024-09-13T14:45:10.990271Z",
     "iopub.status.idle": "2024-09-13T14:45:11.014157Z",
     "shell.execute_reply": "2024-09-13T14:45:11.012788Z"
    },
    "papermill": {
     "duration": 0.037935,
     "end_time": "2024-09-13T14:45:11.016954",
     "exception": false,
     "start_time": "2024-09-13T14:45:10.979019",
     "status": "completed"
    },
    "tags": []
   },
   "outputs": [
    {
     "data": {
      "text/html": [
       "<div>\n",
       "<style scoped>\n",
       "    .dataframe tbody tr th:only-of-type {\n",
       "        vertical-align: middle;\n",
       "    }\n",
       "\n",
       "    .dataframe tbody tr th {\n",
       "        vertical-align: top;\n",
       "    }\n",
       "\n",
       "    .dataframe thead th {\n",
       "        text-align: right;\n",
       "    }\n",
       "</style>\n",
       "<table border=\"1\" class=\"dataframe\">\n",
       "  <thead>\n",
       "    <tr style=\"text-align: right;\">\n",
       "      <th></th>\n",
       "      <th>Bag</th>\n",
       "      <th>Blush</th>\n",
       "      <th>Nail Polish</th>\n",
       "      <th>Brushes</th>\n",
       "      <th>Concealer</th>\n",
       "      <th>Eyebrow Pencils</th>\n",
       "      <th>Bronzer</th>\n",
       "      <th>Lip liner</th>\n",
       "      <th>Mascara</th>\n",
       "      <th>Eye shadow</th>\n",
       "      <th>Foundation</th>\n",
       "      <th>Lip Gloss</th>\n",
       "      <th>Lipstick</th>\n",
       "      <th>Eyeliner</th>\n",
       "    </tr>\n",
       "  </thead>\n",
       "  <tbody>\n",
       "    <tr>\n",
       "      <th>0</th>\n",
       "      <td>0</td>\n",
       "      <td>1</td>\n",
       "      <td>1</td>\n",
       "      <td>1</td>\n",
       "      <td>1</td>\n",
       "      <td>0</td>\n",
       "      <td>1</td>\n",
       "      <td>1</td>\n",
       "      <td>1</td>\n",
       "      <td>0</td>\n",
       "      <td>0</td>\n",
       "      <td>0</td>\n",
       "      <td>0</td>\n",
       "      <td>1</td>\n",
       "    </tr>\n",
       "    <tr>\n",
       "      <th>1</th>\n",
       "      <td>0</td>\n",
       "      <td>0</td>\n",
       "      <td>1</td>\n",
       "      <td>0</td>\n",
       "      <td>1</td>\n",
       "      <td>0</td>\n",
       "      <td>1</td>\n",
       "      <td>1</td>\n",
       "      <td>0</td>\n",
       "      <td>0</td>\n",
       "      <td>1</td>\n",
       "      <td>1</td>\n",
       "      <td>0</td>\n",
       "      <td>0</td>\n",
       "    </tr>\n",
       "    <tr>\n",
       "      <th>2</th>\n",
       "      <td>0</td>\n",
       "      <td>1</td>\n",
       "      <td>0</td>\n",
       "      <td>0</td>\n",
       "      <td>1</td>\n",
       "      <td>1</td>\n",
       "      <td>1</td>\n",
       "      <td>1</td>\n",
       "      <td>1</td>\n",
       "      <td>1</td>\n",
       "      <td>1</td>\n",
       "      <td>1</td>\n",
       "      <td>1</td>\n",
       "      <td>0</td>\n",
       "    </tr>\n",
       "    <tr>\n",
       "      <th>3</th>\n",
       "      <td>0</td>\n",
       "      <td>0</td>\n",
       "      <td>1</td>\n",
       "      <td>1</td>\n",
       "      <td>1</td>\n",
       "      <td>0</td>\n",
       "      <td>1</td>\n",
       "      <td>0</td>\n",
       "      <td>0</td>\n",
       "      <td>0</td>\n",
       "      <td>1</td>\n",
       "      <td>0</td>\n",
       "      <td>0</td>\n",
       "      <td>1</td>\n",
       "    </tr>\n",
       "    <tr>\n",
       "      <th>4</th>\n",
       "      <td>0</td>\n",
       "      <td>1</td>\n",
       "      <td>0</td>\n",
       "      <td>0</td>\n",
       "      <td>1</td>\n",
       "      <td>0</td>\n",
       "      <td>1</td>\n",
       "      <td>1</td>\n",
       "      <td>1</td>\n",
       "      <td>1</td>\n",
       "      <td>0</td>\n",
       "      <td>1</td>\n",
       "      <td>1</td>\n",
       "      <td>0</td>\n",
       "    </tr>\n",
       "    <tr>\n",
       "      <th>...</th>\n",
       "      <td>...</td>\n",
       "      <td>...</td>\n",
       "      <td>...</td>\n",
       "      <td>...</td>\n",
       "      <td>...</td>\n",
       "      <td>...</td>\n",
       "      <td>...</td>\n",
       "      <td>...</td>\n",
       "      <td>...</td>\n",
       "      <td>...</td>\n",
       "      <td>...</td>\n",
       "      <td>...</td>\n",
       "      <td>...</td>\n",
       "      <td>...</td>\n",
       "    </tr>\n",
       "    <tr>\n",
       "      <th>995</th>\n",
       "      <td>0</td>\n",
       "      <td>0</td>\n",
       "      <td>0</td>\n",
       "      <td>0</td>\n",
       "      <td>0</td>\n",
       "      <td>0</td>\n",
       "      <td>0</td>\n",
       "      <td>0</td>\n",
       "      <td>0</td>\n",
       "      <td>0</td>\n",
       "      <td>0</td>\n",
       "      <td>0</td>\n",
       "      <td>0</td>\n",
       "      <td>0</td>\n",
       "    </tr>\n",
       "    <tr>\n",
       "      <th>996</th>\n",
       "      <td>0</td>\n",
       "      <td>0</td>\n",
       "      <td>0</td>\n",
       "      <td>0</td>\n",
       "      <td>0</td>\n",
       "      <td>0</td>\n",
       "      <td>0</td>\n",
       "      <td>0</td>\n",
       "      <td>0</td>\n",
       "      <td>0</td>\n",
       "      <td>1</td>\n",
       "      <td>1</td>\n",
       "      <td>0</td>\n",
       "      <td>0</td>\n",
       "    </tr>\n",
       "    <tr>\n",
       "      <th>997</th>\n",
       "      <td>0</td>\n",
       "      <td>1</td>\n",
       "      <td>1</td>\n",
       "      <td>1</td>\n",
       "      <td>1</td>\n",
       "      <td>0</td>\n",
       "      <td>0</td>\n",
       "      <td>1</td>\n",
       "      <td>0</td>\n",
       "      <td>0</td>\n",
       "      <td>1</td>\n",
       "      <td>0</td>\n",
       "      <td>1</td>\n",
       "      <td>1</td>\n",
       "    </tr>\n",
       "    <tr>\n",
       "      <th>998</th>\n",
       "      <td>1</td>\n",
       "      <td>1</td>\n",
       "      <td>0</td>\n",
       "      <td>0</td>\n",
       "      <td>1</td>\n",
       "      <td>0</td>\n",
       "      <td>0</td>\n",
       "      <td>0</td>\n",
       "      <td>1</td>\n",
       "      <td>1</td>\n",
       "      <td>0</td>\n",
       "      <td>0</td>\n",
       "      <td>1</td>\n",
       "      <td>1</td>\n",
       "    </tr>\n",
       "    <tr>\n",
       "      <th>999</th>\n",
       "      <td>0</td>\n",
       "      <td>0</td>\n",
       "      <td>0</td>\n",
       "      <td>0</td>\n",
       "      <td>1</td>\n",
       "      <td>0</td>\n",
       "      <td>1</td>\n",
       "      <td>1</td>\n",
       "      <td>0</td>\n",
       "      <td>1</td>\n",
       "      <td>0</td>\n",
       "      <td>0</td>\n",
       "      <td>0</td>\n",
       "      <td>1</td>\n",
       "    </tr>\n",
       "  </tbody>\n",
       "</table>\n",
       "<p>1000 rows × 14 columns</p>\n",
       "</div>"
      ],
      "text/plain": [
       "     Bag  Blush  Nail Polish  Brushes  Concealer  Eyebrow Pencils  Bronzer  \\\n",
       "0      0      1            1        1          1                0        1   \n",
       "1      0      0            1        0          1                0        1   \n",
       "2      0      1            0        0          1                1        1   \n",
       "3      0      0            1        1          1                0        1   \n",
       "4      0      1            0        0          1                0        1   \n",
       "..   ...    ...          ...      ...        ...              ...      ...   \n",
       "995    0      0            0        0          0                0        0   \n",
       "996    0      0            0        0          0                0        0   \n",
       "997    0      1            1        1          1                0        0   \n",
       "998    1      1            0        0          1                0        0   \n",
       "999    0      0            0        0          1                0        1   \n",
       "\n",
       "     Lip liner  Mascara  Eye shadow  Foundation  Lip Gloss  Lipstick  Eyeliner  \n",
       "0            1        1           0           0          0         0         1  \n",
       "1            1        0           0           1          1         0         0  \n",
       "2            1        1           1           1          1         1         0  \n",
       "3            0        0           0           1          0         0         1  \n",
       "4            1        1           1           0          1         1         0  \n",
       "..         ...      ...         ...         ...        ...       ...       ...  \n",
       "995          0        0           0           0          0         0         0  \n",
       "996          0        0           0           1          1         0         0  \n",
       "997          1        0           0           1          0         1         1  \n",
       "998          0        1           1           0          0         1         1  \n",
       "999          1        0           1           0          0         0         1  \n",
       "\n",
       "[1000 rows x 14 columns]"
      ]
     },
     "execution_count": 8,
     "metadata": {},
     "output_type": "execute_result"
    }
   ],
   "source": [
    "selected_columns_df"
   ]
  },
  {
   "cell_type": "code",
   "execution_count": 9,
   "id": "88245342",
   "metadata": {
    "execution": {
     "iopub.execute_input": "2024-09-13T14:45:11.040707Z",
     "iopub.status.busy": "2024-09-13T14:45:11.040274Z",
     "iopub.status.idle": "2024-09-13T14:45:11.057874Z",
     "shell.execute_reply": "2024-09-13T14:45:11.056528Z"
    },
    "papermill": {
     "duration": 0.032386,
     "end_time": "2024-09-13T14:45:11.060714",
     "exception": false,
     "start_time": "2024-09-13T14:45:11.028328",
     "status": "completed"
    },
    "tags": []
   },
   "outputs": [],
   "source": [
    "# importing req libraries for apriori algo and association rule \n",
    "from mlxtend.frequent_patterns import apriori, association_rules"
   ]
  },
  {
   "cell_type": "code",
   "execution_count": 10,
   "id": "6d8fcc6e",
   "metadata": {
    "execution": {
     "iopub.execute_input": "2024-09-13T14:45:11.084519Z",
     "iopub.status.busy": "2024-09-13T14:45:11.083887Z",
     "iopub.status.idle": "2024-09-13T14:45:11.090036Z",
     "shell.execute_reply": "2024-09-13T14:45:11.088626Z"
    },
    "papermill": {
     "duration": 0.021305,
     "end_time": "2024-09-13T14:45:11.092812",
     "exception": false,
     "start_time": "2024-09-13T14:45:11.071507",
     "status": "completed"
    },
    "tags": []
   },
   "outputs": [],
   "source": [
    "# support\n",
    "minimum_required_support = 0.1"
   ]
  },
  {
   "cell_type": "code",
   "execution_count": 11,
   "id": "0cc4b479",
   "metadata": {
    "execution": {
     "iopub.execute_input": "2024-09-13T14:45:11.116216Z",
     "iopub.status.busy": "2024-09-13T14:45:11.115730Z",
     "iopub.status.idle": "2024-09-13T14:45:11.160891Z",
     "shell.execute_reply": "2024-09-13T14:45:11.159674Z"
    },
    "papermill": {
     "duration": 0.060468,
     "end_time": "2024-09-13T14:45:11.164262",
     "exception": false,
     "start_time": "2024-09-13T14:45:11.103794",
     "status": "completed"
    },
    "tags": []
   },
   "outputs": [
    {
     "name": "stderr",
     "output_type": "stream",
     "text": [
      "/opt/conda/lib/python3.10/site-packages/mlxtend/frequent_patterns/fpcommon.py:109: DeprecationWarning: DataFrames with non-bool types result in worse computationalperformance and their support might be discontinued in the future.Please use a DataFrame with bool type\n",
      "  warnings.warn(\n"
     ]
    },
    {
     "data": {
      "text/html": [
       "<div>\n",
       "<style scoped>\n",
       "    .dataframe tbody tr th:only-of-type {\n",
       "        vertical-align: middle;\n",
       "    }\n",
       "\n",
       "    .dataframe tbody tr th {\n",
       "        vertical-align: top;\n",
       "    }\n",
       "\n",
       "    .dataframe thead th {\n",
       "        text-align: right;\n",
       "    }\n",
       "</style>\n",
       "<table border=\"1\" class=\"dataframe\">\n",
       "  <thead>\n",
       "    <tr style=\"text-align: right;\">\n",
       "      <th></th>\n",
       "      <th>support</th>\n",
       "      <th>itemsets</th>\n",
       "    </tr>\n",
       "  </thead>\n",
       "  <tbody>\n",
       "    <tr>\n",
       "      <th>8</th>\n",
       "      <td>0.536</td>\n",
       "      <td>(Foundation)</td>\n",
       "    </tr>\n",
       "    <tr>\n",
       "      <th>9</th>\n",
       "      <td>0.490</td>\n",
       "      <td>(Lip Gloss)</td>\n",
       "    </tr>\n",
       "    <tr>\n",
       "      <th>11</th>\n",
       "      <td>0.457</td>\n",
       "      <td>(Eyeliner)</td>\n",
       "    </tr>\n",
       "    <tr>\n",
       "      <th>3</th>\n",
       "      <td>0.442</td>\n",
       "      <td>(Concealer)</td>\n",
       "    </tr>\n",
       "    <tr>\n",
       "      <th>7</th>\n",
       "      <td>0.381</td>\n",
       "      <td>(Eye shadow)</td>\n",
       "    </tr>\n",
       "    <tr>\n",
       "      <th>...</th>\n",
       "      <td>...</td>\n",
       "      <td>...</td>\n",
       "    </tr>\n",
       "    <tr>\n",
       "      <th>76</th>\n",
       "      <td>0.102</td>\n",
       "      <td>(Concealer, Bronzer, Mascara)</td>\n",
       "    </tr>\n",
       "    <tr>\n",
       "      <th>71</th>\n",
       "      <td>0.101</td>\n",
       "      <td>(Blush, Mascara, Foundation)</td>\n",
       "    </tr>\n",
       "    <tr>\n",
       "      <th>84</th>\n",
       "      <td>0.101</td>\n",
       "      <td>(Concealer, Eye shadow, Lip Gloss)</td>\n",
       "    </tr>\n",
       "    <tr>\n",
       "      <th>81</th>\n",
       "      <td>0.101</td>\n",
       "      <td>(Concealer, Mascara, Lip Gloss)</td>\n",
       "    </tr>\n",
       "    <tr>\n",
       "      <th>72</th>\n",
       "      <td>0.100</td>\n",
       "      <td>(Blush, Eye shadow, Foundation)</td>\n",
       "    </tr>\n",
       "  </tbody>\n",
       "</table>\n",
       "<p>102 rows × 2 columns</p>\n",
       "</div>"
      ],
      "text/plain": [
       "    support                            itemsets\n",
       "8     0.536                        (Foundation)\n",
       "9     0.490                         (Lip Gloss)\n",
       "11    0.457                          (Eyeliner)\n",
       "3     0.442                         (Concealer)\n",
       "7     0.381                        (Eye shadow)\n",
       "..      ...                                 ...\n",
       "76    0.102       (Concealer, Bronzer, Mascara)\n",
       "71    0.101        (Blush, Mascara, Foundation)\n",
       "84    0.101  (Concealer, Eye shadow, Lip Gloss)\n",
       "81    0.101     (Concealer, Mascara, Lip Gloss)\n",
       "72    0.100     (Blush, Eye shadow, Foundation)\n",
       "\n",
       "[102 rows x 2 columns]"
      ]
     },
     "execution_count": 11,
     "metadata": {},
     "output_type": "execute_result"
    }
   ],
   "source": [
    "frequent_itemsets = apriori(selected_columns_df, min_support=minimum_required_support, use_colnames=True)\n",
    "# following are the items having support > min support provided\n",
    "frequent_itemsets.sort_values(by = 'support', ascending = False)"
   ]
  },
  {
   "cell_type": "markdown",
   "id": "5ed1c6b4",
   "metadata": {
    "papermill": {
     "duration": 0.010855,
     "end_time": "2024-09-13T14:45:11.186065",
     "exception": false,
     "start_time": "2024-09-13T14:45:11.175210",
     "status": "completed"
    },
    "tags": []
   },
   "source": [
    "Foundation have the highest support = .536"
   ]
  },
  {
   "cell_type": "code",
   "execution_count": 12,
   "id": "e37d0cfb",
   "metadata": {
    "execution": {
     "iopub.execute_input": "2024-09-13T14:45:11.209862Z",
     "iopub.status.busy": "2024-09-13T14:45:11.209420Z",
     "iopub.status.idle": "2024-09-13T14:45:11.232876Z",
     "shell.execute_reply": "2024-09-13T14:45:11.231246Z"
    },
    "papermill": {
     "duration": 0.038807,
     "end_time": "2024-09-13T14:45:11.235791",
     "exception": false,
     "start_time": "2024-09-13T14:45:11.196984",
     "status": "completed"
    },
    "tags": []
   },
   "outputs": [
    {
     "name": "stderr",
     "output_type": "stream",
     "text": [
      "/opt/conda/lib/python3.10/site-packages/mlxtend/frequent_patterns/fpcommon.py:109: DeprecationWarning: DataFrames with non-bool types result in worse computationalperformance and their support might be discontinued in the future.Please use a DataFrame with bool type\n",
      "  warnings.warn(\n"
     ]
    },
    {
     "data": {
      "text/html": [
       "<div>\n",
       "<style scoped>\n",
       "    .dataframe tbody tr th:only-of-type {\n",
       "        vertical-align: middle;\n",
       "    }\n",
       "\n",
       "    .dataframe tbody tr th {\n",
       "        vertical-align: top;\n",
       "    }\n",
       "\n",
       "    .dataframe thead th {\n",
       "        text-align: right;\n",
       "    }\n",
       "</style>\n",
       "<table border=\"1\" class=\"dataframe\">\n",
       "  <thead>\n",
       "    <tr style=\"text-align: right;\">\n",
       "      <th></th>\n",
       "      <th>support</th>\n",
       "      <th>itemsets</th>\n",
       "    </tr>\n",
       "  </thead>\n",
       "  <tbody>\n",
       "    <tr>\n",
       "      <th>0</th>\n",
       "      <td>0.363</td>\n",
       "      <td>(Blush)</td>\n",
       "    </tr>\n",
       "    <tr>\n",
       "      <th>1</th>\n",
       "      <td>0.442</td>\n",
       "      <td>(Concealer)</td>\n",
       "    </tr>\n",
       "    <tr>\n",
       "      <th>2</th>\n",
       "      <td>0.357</td>\n",
       "      <td>(Mascara)</td>\n",
       "    </tr>\n",
       "    <tr>\n",
       "      <th>3</th>\n",
       "      <td>0.381</td>\n",
       "      <td>(Eye shadow)</td>\n",
       "    </tr>\n",
       "    <tr>\n",
       "      <th>4</th>\n",
       "      <td>0.536</td>\n",
       "      <td>(Foundation)</td>\n",
       "    </tr>\n",
       "    <tr>\n",
       "      <th>5</th>\n",
       "      <td>0.490</td>\n",
       "      <td>(Lip Gloss)</td>\n",
       "    </tr>\n",
       "    <tr>\n",
       "      <th>6</th>\n",
       "      <td>0.322</td>\n",
       "      <td>(Lipstick)</td>\n",
       "    </tr>\n",
       "    <tr>\n",
       "      <th>7</th>\n",
       "      <td>0.457</td>\n",
       "      <td>(Eyeliner)</td>\n",
       "    </tr>\n",
       "    <tr>\n",
       "      <th>8</th>\n",
       "      <td>0.321</td>\n",
       "      <td>(Eye shadow, Mascara)</td>\n",
       "    </tr>\n",
       "    <tr>\n",
       "      <th>9</th>\n",
       "      <td>0.356</td>\n",
       "      <td>(Foundation, Lip Gloss)</td>\n",
       "    </tr>\n",
       "  </tbody>\n",
       "</table>\n",
       "</div>"
      ],
      "text/plain": [
       "   support                 itemsets\n",
       "0    0.363                  (Blush)\n",
       "1    0.442              (Concealer)\n",
       "2    0.357                (Mascara)\n",
       "3    0.381             (Eye shadow)\n",
       "4    0.536             (Foundation)\n",
       "5    0.490              (Lip Gloss)\n",
       "6    0.322               (Lipstick)\n",
       "7    0.457               (Eyeliner)\n",
       "8    0.321    (Eye shadow, Mascara)\n",
       "9    0.356  (Foundation, Lip Gloss)"
      ]
     },
     "execution_count": 12,
     "metadata": {},
     "output_type": "execute_result"
    }
   ],
   "source": [
    "# trail error with different support values\n",
    "minimum_required_support = 0.3\n",
    "frequent_itemsets = apriori(selected_columns_df, min_support=minimum_required_support, use_colnames=True)\n",
    "frequent_itemsets"
   ]
  },
  {
   "cell_type": "markdown",
   "id": "de5ebbd5",
   "metadata": {
    "papermill": {
     "duration": 0.010993,
     "end_time": "2024-09-13T14:45:11.258201",
     "exception": false,
     "start_time": "2024-09-13T14:45:11.247208",
     "status": "completed"
    },
    "tags": []
   },
   "source": [
    "0.5 and 0.4 has only single items"
   ]
  },
  {
   "cell_type": "code",
   "execution_count": 13,
   "id": "70825990",
   "metadata": {
    "execution": {
     "iopub.execute_input": "2024-09-13T14:45:11.284953Z",
     "iopub.status.busy": "2024-09-13T14:45:11.284468Z",
     "iopub.status.idle": "2024-09-13T14:45:11.298613Z",
     "shell.execute_reply": "2024-09-13T14:45:11.297029Z"
    },
    "papermill": {
     "duration": 0.030989,
     "end_time": "2024-09-13T14:45:11.301854",
     "exception": false,
     "start_time": "2024-09-13T14:45:11.270865",
     "status": "completed"
    },
    "tags": []
   },
   "outputs": [],
   "source": [
    "# Lift\n",
    "# set the required lift\n",
    "minimum_required_lift = 1.1\n",
    "rules = association_rules(frequent_itemsets,metric='lift',min_threshold=minimum_required_lift)"
   ]
  },
  {
   "cell_type": "code",
   "execution_count": 14,
   "id": "8444c538",
   "metadata": {
    "execution": {
     "iopub.execute_input": "2024-09-13T14:45:11.326963Z",
     "iopub.status.busy": "2024-09-13T14:45:11.326522Z",
     "iopub.status.idle": "2024-09-13T14:45:11.349685Z",
     "shell.execute_reply": "2024-09-13T14:45:11.348548Z"
    },
    "papermill": {
     "duration": 0.0392,
     "end_time": "2024-09-13T14:45:11.352622",
     "exception": false,
     "start_time": "2024-09-13T14:45:11.313422",
     "status": "completed"
    },
    "tags": []
   },
   "outputs": [
    {
     "data": {
      "text/html": [
       "<div>\n",
       "<style scoped>\n",
       "    .dataframe tbody tr th:only-of-type {\n",
       "        vertical-align: middle;\n",
       "    }\n",
       "\n",
       "    .dataframe tbody tr th {\n",
       "        vertical-align: top;\n",
       "    }\n",
       "\n",
       "    .dataframe thead th {\n",
       "        text-align: right;\n",
       "    }\n",
       "</style>\n",
       "<table border=\"1\" class=\"dataframe\">\n",
       "  <thead>\n",
       "    <tr style=\"text-align: right;\">\n",
       "      <th></th>\n",
       "      <th>antecedents</th>\n",
       "      <th>consequents</th>\n",
       "      <th>antecedent support</th>\n",
       "      <th>consequent support</th>\n",
       "      <th>support</th>\n",
       "      <th>confidence</th>\n",
       "      <th>lift</th>\n",
       "      <th>leverage</th>\n",
       "      <th>conviction</th>\n",
       "      <th>zhangs_metric</th>\n",
       "    </tr>\n",
       "  </thead>\n",
       "  <tbody>\n",
       "    <tr>\n",
       "      <th>0</th>\n",
       "      <td>(Eye shadow)</td>\n",
       "      <td>(Mascara)</td>\n",
       "      <td>0.381</td>\n",
       "      <td>0.357</td>\n",
       "      <td>0.321</td>\n",
       "      <td>0.842520</td>\n",
       "      <td>2.359999</td>\n",
       "      <td>0.184983</td>\n",
       "      <td>4.083050</td>\n",
       "      <td>0.930971</td>\n",
       "    </tr>\n",
       "    <tr>\n",
       "      <th>1</th>\n",
       "      <td>(Mascara)</td>\n",
       "      <td>(Eye shadow)</td>\n",
       "      <td>0.357</td>\n",
       "      <td>0.381</td>\n",
       "      <td>0.321</td>\n",
       "      <td>0.899160</td>\n",
       "      <td>2.359999</td>\n",
       "      <td>0.184983</td>\n",
       "      <td>6.138417</td>\n",
       "      <td>0.896222</td>\n",
       "    </tr>\n",
       "    <tr>\n",
       "      <th>2</th>\n",
       "      <td>(Foundation)</td>\n",
       "      <td>(Lip Gloss)</td>\n",
       "      <td>0.536</td>\n",
       "      <td>0.490</td>\n",
       "      <td>0.356</td>\n",
       "      <td>0.664179</td>\n",
       "      <td>1.355468</td>\n",
       "      <td>0.093360</td>\n",
       "      <td>1.518667</td>\n",
       "      <td>0.565188</td>\n",
       "    </tr>\n",
       "    <tr>\n",
       "      <th>3</th>\n",
       "      <td>(Lip Gloss)</td>\n",
       "      <td>(Foundation)</td>\n",
       "      <td>0.490</td>\n",
       "      <td>0.536</td>\n",
       "      <td>0.356</td>\n",
       "      <td>0.726531</td>\n",
       "      <td>1.355468</td>\n",
       "      <td>0.093360</td>\n",
       "      <td>1.696716</td>\n",
       "      <td>0.514210</td>\n",
       "    </tr>\n",
       "  </tbody>\n",
       "</table>\n",
       "</div>"
      ],
      "text/plain": [
       "    antecedents   consequents  antecedent support  consequent support  \\\n",
       "0  (Eye shadow)     (Mascara)               0.381               0.357   \n",
       "1     (Mascara)  (Eye shadow)               0.357               0.381   \n",
       "2  (Foundation)   (Lip Gloss)               0.536               0.490   \n",
       "3   (Lip Gloss)  (Foundation)               0.490               0.536   \n",
       "\n",
       "   support  confidence      lift  leverage  conviction  zhangs_metric  \n",
       "0    0.321    0.842520  2.359999  0.184983    4.083050       0.930971  \n",
       "1    0.321    0.899160  2.359999  0.184983    6.138417       0.896222  \n",
       "2    0.356    0.664179  1.355468  0.093360    1.518667       0.565188  \n",
       "3    0.356    0.726531  1.355468  0.093360    1.696716       0.514210  "
      ]
     },
     "execution_count": 14,
     "metadata": {},
     "output_type": "execute_result"
    }
   ],
   "source": [
    "rules"
   ]
  },
  {
   "cell_type": "code",
   "execution_count": 15,
   "id": "73ce154d",
   "metadata": {
    "execution": {
     "iopub.execute_input": "2024-09-13T14:45:11.379853Z",
     "iopub.status.busy": "2024-09-13T14:45:11.379347Z",
     "iopub.status.idle": "2024-09-13T14:45:11.386531Z",
     "shell.execute_reply": "2024-09-13T14:45:11.385275Z"
    },
    "papermill": {
     "duration": 0.024612,
     "end_time": "2024-09-13T14:45:11.389296",
     "exception": false,
     "start_time": "2024-09-13T14:45:11.364684",
     "status": "completed"
    },
    "tags": []
   },
   "outputs": [
    {
     "name": "stdout",
     "output_type": "stream",
     "text": [
      "Total number of rules generated by the algortithm with given support and lift :  4\n"
     ]
    }
   ],
   "source": [
    "print('Total number of rules generated by the algortithm with given support and lift : ',len(rules))"
   ]
  },
  {
   "cell_type": "code",
   "execution_count": 16,
   "id": "daad6d96",
   "metadata": {
    "execution": {
     "iopub.execute_input": "2024-09-13T14:45:11.415890Z",
     "iopub.status.busy": "2024-09-13T14:45:11.415473Z",
     "iopub.status.idle": "2024-09-13T14:45:11.420903Z",
     "shell.execute_reply": "2024-09-13T14:45:11.419377Z"
    },
    "papermill": {
     "duration": 0.022219,
     "end_time": "2024-09-13T14:45:11.423990",
     "exception": false,
     "start_time": "2024-09-13T14:45:11.401771",
     "status": "completed"
    },
    "tags": []
   },
   "outputs": [],
   "source": [
    "# Set the threshold for confidence\n",
    "minimum_required_confidence = 0.5"
   ]
  },
  {
   "cell_type": "code",
   "execution_count": 17,
   "id": "fa6ad8e9",
   "metadata": {
    "execution": {
     "iopub.execute_input": "2024-09-13T14:45:11.449729Z",
     "iopub.status.busy": "2024-09-13T14:45:11.449325Z",
     "iopub.status.idle": "2024-09-13T14:45:11.456563Z",
     "shell.execute_reply": "2024-09-13T14:45:11.455254Z"
    },
    "papermill": {
     "duration": 0.022629,
     "end_time": "2024-09-13T14:45:11.459053",
     "exception": false,
     "start_time": "2024-09-13T14:45:11.436424",
     "status": "completed"
    },
    "tags": []
   },
   "outputs": [],
   "source": [
    "# Filter rules based on confidence and lift thresholds\n",
    "filtered_rules = rules[(rules['confidence'] >= minimum_required_confidence)]"
   ]
  },
  {
   "cell_type": "code",
   "execution_count": 18,
   "id": "bdea5030",
   "metadata": {
    "execution": {
     "iopub.execute_input": "2024-09-13T14:45:11.486232Z",
     "iopub.status.busy": "2024-09-13T14:45:11.485650Z",
     "iopub.status.idle": "2024-09-13T14:45:11.509116Z",
     "shell.execute_reply": "2024-09-13T14:45:11.507419Z"
    },
    "papermill": {
     "duration": 0.041511,
     "end_time": "2024-09-13T14:45:11.512274",
     "exception": false,
     "start_time": "2024-09-13T14:45:11.470763",
     "status": "completed"
    },
    "tags": []
   },
   "outputs": [
    {
     "data": {
      "text/html": [
       "<div>\n",
       "<style scoped>\n",
       "    .dataframe tbody tr th:only-of-type {\n",
       "        vertical-align: middle;\n",
       "    }\n",
       "\n",
       "    .dataframe tbody tr th {\n",
       "        vertical-align: top;\n",
       "    }\n",
       "\n",
       "    .dataframe thead th {\n",
       "        text-align: right;\n",
       "    }\n",
       "</style>\n",
       "<table border=\"1\" class=\"dataframe\">\n",
       "  <thead>\n",
       "    <tr style=\"text-align: right;\">\n",
       "      <th></th>\n",
       "      <th>antecedents</th>\n",
       "      <th>consequents</th>\n",
       "      <th>antecedent support</th>\n",
       "      <th>consequent support</th>\n",
       "      <th>support</th>\n",
       "      <th>confidence</th>\n",
       "      <th>lift</th>\n",
       "      <th>leverage</th>\n",
       "      <th>conviction</th>\n",
       "      <th>zhangs_metric</th>\n",
       "    </tr>\n",
       "  </thead>\n",
       "  <tbody>\n",
       "    <tr>\n",
       "      <th>0</th>\n",
       "      <td>(Eye shadow)</td>\n",
       "      <td>(Mascara)</td>\n",
       "      <td>0.381</td>\n",
       "      <td>0.357</td>\n",
       "      <td>0.321</td>\n",
       "      <td>0.842520</td>\n",
       "      <td>2.359999</td>\n",
       "      <td>0.184983</td>\n",
       "      <td>4.083050</td>\n",
       "      <td>0.930971</td>\n",
       "    </tr>\n",
       "    <tr>\n",
       "      <th>1</th>\n",
       "      <td>(Mascara)</td>\n",
       "      <td>(Eye shadow)</td>\n",
       "      <td>0.357</td>\n",
       "      <td>0.381</td>\n",
       "      <td>0.321</td>\n",
       "      <td>0.899160</td>\n",
       "      <td>2.359999</td>\n",
       "      <td>0.184983</td>\n",
       "      <td>6.138417</td>\n",
       "      <td>0.896222</td>\n",
       "    </tr>\n",
       "    <tr>\n",
       "      <th>2</th>\n",
       "      <td>(Foundation)</td>\n",
       "      <td>(Lip Gloss)</td>\n",
       "      <td>0.536</td>\n",
       "      <td>0.490</td>\n",
       "      <td>0.356</td>\n",
       "      <td>0.664179</td>\n",
       "      <td>1.355468</td>\n",
       "      <td>0.093360</td>\n",
       "      <td>1.518667</td>\n",
       "      <td>0.565188</td>\n",
       "    </tr>\n",
       "    <tr>\n",
       "      <th>3</th>\n",
       "      <td>(Lip Gloss)</td>\n",
       "      <td>(Foundation)</td>\n",
       "      <td>0.490</td>\n",
       "      <td>0.536</td>\n",
       "      <td>0.356</td>\n",
       "      <td>0.726531</td>\n",
       "      <td>1.355468</td>\n",
       "      <td>0.093360</td>\n",
       "      <td>1.696716</td>\n",
       "      <td>0.514210</td>\n",
       "    </tr>\n",
       "  </tbody>\n",
       "</table>\n",
       "</div>"
      ],
      "text/plain": [
       "    antecedents   consequents  antecedent support  consequent support  \\\n",
       "0  (Eye shadow)     (Mascara)               0.381               0.357   \n",
       "1     (Mascara)  (Eye shadow)               0.357               0.381   \n",
       "2  (Foundation)   (Lip Gloss)               0.536               0.490   \n",
       "3   (Lip Gloss)  (Foundation)               0.490               0.536   \n",
       "\n",
       "   support  confidence      lift  leverage  conviction  zhangs_metric  \n",
       "0    0.321    0.842520  2.359999  0.184983    4.083050       0.930971  \n",
       "1    0.321    0.899160  2.359999  0.184983    6.138417       0.896222  \n",
       "2    0.356    0.664179  1.355468  0.093360    1.518667       0.565188  \n",
       "3    0.356    0.726531  1.355468  0.093360    1.696716       0.514210  "
      ]
     },
     "execution_count": 18,
     "metadata": {},
     "output_type": "execute_result"
    }
   ],
   "source": [
    "filtered_rules"
   ]
  },
  {
   "cell_type": "code",
   "execution_count": 19,
   "id": "54fc11a4",
   "metadata": {
    "execution": {
     "iopub.execute_input": "2024-09-13T14:45:11.540678Z",
     "iopub.status.busy": "2024-09-13T14:45:11.539268Z",
     "iopub.status.idle": "2024-09-13T14:45:11.546654Z",
     "shell.execute_reply": "2024-09-13T14:45:11.545300Z"
    },
    "papermill": {
     "duration": 0.023386,
     "end_time": "2024-09-13T14:45:11.549519",
     "exception": false,
     "start_time": "2024-09-13T14:45:11.526133",
     "status": "completed"
    },
    "tags": []
   },
   "outputs": [
    {
     "name": "stdout",
     "output_type": "stream",
     "text": [
      "Total number of rules generated by the algortithm with given support and lift :  4\n"
     ]
    }
   ],
   "source": [
    "print('Total number of rules generated by the algortithm with given support and lift : ',len(filtered_rules))"
   ]
  },
  {
   "cell_type": "code",
   "execution_count": 20,
   "id": "2c8f1bca",
   "metadata": {
    "execution": {
     "iopub.execute_input": "2024-09-13T14:45:11.579393Z",
     "iopub.status.busy": "2024-09-13T14:45:11.578901Z",
     "iopub.status.idle": "2024-09-13T14:45:11.589371Z",
     "shell.execute_reply": "2024-09-13T14:45:11.588272Z"
    },
    "papermill": {
     "duration": 0.030244,
     "end_time": "2024-09-13T14:45:11.592018",
     "exception": false,
     "start_time": "2024-09-13T14:45:11.561774",
     "status": "completed"
    },
    "tags": []
   },
   "outputs": [],
   "source": [
    "# sorting the rules based on lift, conf, supp(in desc order)\n",
    "sorted_rules = filtered_rules.sort_values(by = ['lift', 'confidence','support'], ascending=False)"
   ]
  },
  {
   "cell_type": "code",
   "execution_count": 21,
   "id": "0df2e525",
   "metadata": {
    "execution": {
     "iopub.execute_input": "2024-09-13T14:45:11.619336Z",
     "iopub.status.busy": "2024-09-13T14:45:11.618105Z",
     "iopub.status.idle": "2024-09-13T14:45:11.642797Z",
     "shell.execute_reply": "2024-09-13T14:45:11.641554Z"
    },
    "papermill": {
     "duration": 0.040743,
     "end_time": "2024-09-13T14:45:11.645570",
     "exception": false,
     "start_time": "2024-09-13T14:45:11.604827",
     "status": "completed"
    },
    "tags": []
   },
   "outputs": [
    {
     "data": {
      "text/html": [
       "<div>\n",
       "<style scoped>\n",
       "    .dataframe tbody tr th:only-of-type {\n",
       "        vertical-align: middle;\n",
       "    }\n",
       "\n",
       "    .dataframe tbody tr th {\n",
       "        vertical-align: top;\n",
       "    }\n",
       "\n",
       "    .dataframe thead th {\n",
       "        text-align: right;\n",
       "    }\n",
       "</style>\n",
       "<table border=\"1\" class=\"dataframe\">\n",
       "  <thead>\n",
       "    <tr style=\"text-align: right;\">\n",
       "      <th></th>\n",
       "      <th>antecedents</th>\n",
       "      <th>consequents</th>\n",
       "      <th>antecedent support</th>\n",
       "      <th>consequent support</th>\n",
       "      <th>support</th>\n",
       "      <th>confidence</th>\n",
       "      <th>lift</th>\n",
       "      <th>leverage</th>\n",
       "      <th>conviction</th>\n",
       "      <th>zhangs_metric</th>\n",
       "    </tr>\n",
       "  </thead>\n",
       "  <tbody>\n",
       "    <tr>\n",
       "      <th>0</th>\n",
       "      <td>(Eye shadow)</td>\n",
       "      <td>(Mascara)</td>\n",
       "      <td>0.381</td>\n",
       "      <td>0.357</td>\n",
       "      <td>0.321</td>\n",
       "      <td>0.842520</td>\n",
       "      <td>2.359999</td>\n",
       "      <td>0.184983</td>\n",
       "      <td>4.083050</td>\n",
       "      <td>0.930971</td>\n",
       "    </tr>\n",
       "    <tr>\n",
       "      <th>1</th>\n",
       "      <td>(Mascara)</td>\n",
       "      <td>(Eye shadow)</td>\n",
       "      <td>0.357</td>\n",
       "      <td>0.381</td>\n",
       "      <td>0.321</td>\n",
       "      <td>0.899160</td>\n",
       "      <td>2.359999</td>\n",
       "      <td>0.184983</td>\n",
       "      <td>6.138417</td>\n",
       "      <td>0.896222</td>\n",
       "    </tr>\n",
       "    <tr>\n",
       "      <th>2</th>\n",
       "      <td>(Foundation)</td>\n",
       "      <td>(Lip Gloss)</td>\n",
       "      <td>0.536</td>\n",
       "      <td>0.490</td>\n",
       "      <td>0.356</td>\n",
       "      <td>0.664179</td>\n",
       "      <td>1.355468</td>\n",
       "      <td>0.093360</td>\n",
       "      <td>1.518667</td>\n",
       "      <td>0.565188</td>\n",
       "    </tr>\n",
       "    <tr>\n",
       "      <th>3</th>\n",
       "      <td>(Lip Gloss)</td>\n",
       "      <td>(Foundation)</td>\n",
       "      <td>0.490</td>\n",
       "      <td>0.536</td>\n",
       "      <td>0.356</td>\n",
       "      <td>0.726531</td>\n",
       "      <td>1.355468</td>\n",
       "      <td>0.093360</td>\n",
       "      <td>1.696716</td>\n",
       "      <td>0.514210</td>\n",
       "    </tr>\n",
       "  </tbody>\n",
       "</table>\n",
       "</div>"
      ],
      "text/plain": [
       "    antecedents   consequents  antecedent support  consequent support  \\\n",
       "0  (Eye shadow)     (Mascara)               0.381               0.357   \n",
       "1     (Mascara)  (Eye shadow)               0.357               0.381   \n",
       "2  (Foundation)   (Lip Gloss)               0.536               0.490   \n",
       "3   (Lip Gloss)  (Foundation)               0.490               0.536   \n",
       "\n",
       "   support  confidence      lift  leverage  conviction  zhangs_metric  \n",
       "0    0.321    0.842520  2.359999  0.184983    4.083050       0.930971  \n",
       "1    0.321    0.899160  2.359999  0.184983    6.138417       0.896222  \n",
       "2    0.356    0.664179  1.355468  0.093360    1.518667       0.565188  \n",
       "3    0.356    0.726531  1.355468  0.093360    1.696716       0.514210  "
      ]
     },
     "execution_count": 21,
     "metadata": {},
     "output_type": "execute_result"
    }
   ],
   "source": [
    "sorted_rules"
   ]
  },
  {
   "cell_type": "code",
   "execution_count": 22,
   "id": "8a25d040",
   "metadata": {
    "execution": {
     "iopub.execute_input": "2024-09-13T14:45:11.671915Z",
     "iopub.status.busy": "2024-09-13T14:45:11.671485Z",
     "iopub.status.idle": "2024-09-13T14:45:11.697815Z",
     "shell.execute_reply": "2024-09-13T14:45:11.696563Z"
    },
    "papermill": {
     "duration": 0.0427,
     "end_time": "2024-09-13T14:45:11.700559",
     "exception": false,
     "start_time": "2024-09-13T14:45:11.657859",
     "status": "completed"
    },
    "tags": []
   },
   "outputs": [
    {
     "data": {
      "text/html": [
       "<div>\n",
       "<style scoped>\n",
       "    .dataframe tbody tr th:only-of-type {\n",
       "        vertical-align: middle;\n",
       "    }\n",
       "\n",
       "    .dataframe tbody tr th {\n",
       "        vertical-align: top;\n",
       "    }\n",
       "\n",
       "    .dataframe thead th {\n",
       "        text-align: right;\n",
       "    }\n",
       "</style>\n",
       "<table border=\"1\" class=\"dataframe\">\n",
       "  <thead>\n",
       "    <tr style=\"text-align: right;\">\n",
       "      <th></th>\n",
       "      <th>antecedents</th>\n",
       "      <th>consequents</th>\n",
       "      <th>antecedent support</th>\n",
       "      <th>consequent support</th>\n",
       "      <th>support</th>\n",
       "      <th>confidence</th>\n",
       "      <th>lift</th>\n",
       "      <th>leverage</th>\n",
       "      <th>conviction</th>\n",
       "      <th>zhangs_metric</th>\n",
       "    </tr>\n",
       "  </thead>\n",
       "  <tbody>\n",
       "    <tr>\n",
       "      <th>0</th>\n",
       "      <td>(Eye shadow)</td>\n",
       "      <td>(Mascara)</td>\n",
       "      <td>0.381</td>\n",
       "      <td>0.357</td>\n",
       "      <td>0.321</td>\n",
       "      <td>0.842520</td>\n",
       "      <td>2.359999</td>\n",
       "      <td>0.184983</td>\n",
       "      <td>4.083050</td>\n",
       "      <td>0.930971</td>\n",
       "    </tr>\n",
       "    <tr>\n",
       "      <th>1</th>\n",
       "      <td>(Mascara)</td>\n",
       "      <td>(Eye shadow)</td>\n",
       "      <td>0.357</td>\n",
       "      <td>0.381</td>\n",
       "      <td>0.321</td>\n",
       "      <td>0.899160</td>\n",
       "      <td>2.359999</td>\n",
       "      <td>0.184983</td>\n",
       "      <td>6.138417</td>\n",
       "      <td>0.896222</td>\n",
       "    </tr>\n",
       "    <tr>\n",
       "      <th>2</th>\n",
       "      <td>(Foundation)</td>\n",
       "      <td>(Lip Gloss)</td>\n",
       "      <td>0.536</td>\n",
       "      <td>0.490</td>\n",
       "      <td>0.356</td>\n",
       "      <td>0.664179</td>\n",
       "      <td>1.355468</td>\n",
       "      <td>0.093360</td>\n",
       "      <td>1.518667</td>\n",
       "      <td>0.565188</td>\n",
       "    </tr>\n",
       "    <tr>\n",
       "      <th>3</th>\n",
       "      <td>(Lip Gloss)</td>\n",
       "      <td>(Foundation)</td>\n",
       "      <td>0.490</td>\n",
       "      <td>0.536</td>\n",
       "      <td>0.356</td>\n",
       "      <td>0.726531</td>\n",
       "      <td>1.355468</td>\n",
       "      <td>0.093360</td>\n",
       "      <td>1.696716</td>\n",
       "      <td>0.514210</td>\n",
       "    </tr>\n",
       "  </tbody>\n",
       "</table>\n",
       "</div>"
      ],
      "text/plain": [
       "    antecedents   consequents  antecedent support  consequent support  \\\n",
       "0  (Eye shadow)     (Mascara)               0.381               0.357   \n",
       "1     (Mascara)  (Eye shadow)               0.357               0.381   \n",
       "2  (Foundation)   (Lip Gloss)               0.536               0.490   \n",
       "3   (Lip Gloss)  (Foundation)               0.490               0.536   \n",
       "\n",
       "   support  confidence      lift  leverage  conviction  zhangs_metric  \n",
       "0    0.321    0.842520  2.359999  0.184983    4.083050       0.930971  \n",
       "1    0.321    0.899160  2.359999  0.184983    6.138417       0.896222  \n",
       "2    0.356    0.664179  1.355468  0.093360    1.518667       0.565188  \n",
       "3    0.356    0.726531  1.355468  0.093360    1.696716       0.514210  "
      ]
     },
     "execution_count": 22,
     "metadata": {},
     "output_type": "execute_result"
    }
   ],
   "source": [
    "# top 5 rules\n",
    "top_5_rules = sorted_rules.head()\n",
    "top_5_rules"
   ]
  },
  {
   "cell_type": "code",
   "execution_count": 23,
   "id": "bc2fb319",
   "metadata": {
    "execution": {
     "iopub.execute_input": "2024-09-13T14:45:11.731796Z",
     "iopub.status.busy": "2024-09-13T14:45:11.731300Z",
     "iopub.status.idle": "2024-09-13T14:45:11.752950Z",
     "shell.execute_reply": "2024-09-13T14:45:11.751350Z"
    },
    "papermill": {
     "duration": 0.039472,
     "end_time": "2024-09-13T14:45:11.756302",
     "exception": false,
     "start_time": "2024-09-13T14:45:11.716830",
     "status": "completed"
    },
    "tags": []
   },
   "outputs": [
    {
     "data": {
      "text/html": [
       "<div>\n",
       "<style scoped>\n",
       "    .dataframe tbody tr th:only-of-type {\n",
       "        vertical-align: middle;\n",
       "    }\n",
       "\n",
       "    .dataframe tbody tr th {\n",
       "        vertical-align: top;\n",
       "    }\n",
       "\n",
       "    .dataframe thead th {\n",
       "        text-align: right;\n",
       "    }\n",
       "</style>\n",
       "<table border=\"1\" class=\"dataframe\">\n",
       "  <thead>\n",
       "    <tr style=\"text-align: right;\">\n",
       "      <th></th>\n",
       "      <th>antecedents</th>\n",
       "      <th>consequents</th>\n",
       "      <th>support</th>\n",
       "      <th>confidence</th>\n",
       "      <th>lift</th>\n",
       "    </tr>\n",
       "  </thead>\n",
       "  <tbody>\n",
       "    <tr>\n",
       "      <th>0</th>\n",
       "      <td>(Eye shadow)</td>\n",
       "      <td>(Mascara)</td>\n",
       "      <td>0.321</td>\n",
       "      <td>0.842520</td>\n",
       "      <td>2.359999</td>\n",
       "    </tr>\n",
       "    <tr>\n",
       "      <th>1</th>\n",
       "      <td>(Mascara)</td>\n",
       "      <td>(Eye shadow)</td>\n",
       "      <td>0.321</td>\n",
       "      <td>0.899160</td>\n",
       "      <td>2.359999</td>\n",
       "    </tr>\n",
       "    <tr>\n",
       "      <th>2</th>\n",
       "      <td>(Foundation)</td>\n",
       "      <td>(Lip Gloss)</td>\n",
       "      <td>0.356</td>\n",
       "      <td>0.664179</td>\n",
       "      <td>1.355468</td>\n",
       "    </tr>\n",
       "    <tr>\n",
       "      <th>3</th>\n",
       "      <td>(Lip Gloss)</td>\n",
       "      <td>(Foundation)</td>\n",
       "      <td>0.356</td>\n",
       "      <td>0.726531</td>\n",
       "      <td>1.355468</td>\n",
       "    </tr>\n",
       "  </tbody>\n",
       "</table>\n",
       "</div>"
      ],
      "text/plain": [
       "    antecedents   consequents  support  confidence      lift\n",
       "0  (Eye shadow)     (Mascara)    0.321    0.842520  2.359999\n",
       "1     (Mascara)  (Eye shadow)    0.321    0.899160  2.359999\n",
       "2  (Foundation)   (Lip Gloss)    0.356    0.664179  1.355468\n",
       "3   (Lip Gloss)  (Foundation)    0.356    0.726531  1.355468"
      ]
     },
     "execution_count": 23,
     "metadata": {},
     "output_type": "execute_result"
    }
   ],
   "source": [
    "# Printing only the support , confidence and lift\n",
    "top_5_rules[['antecedents','consequents','support','confidence','lift']]"
   ]
  },
  {
   "cell_type": "markdown",
   "id": "502c208f",
   "metadata": {
    "papermill": {
     "duration": 0.014612,
     "end_time": "2024-09-13T14:45:11.783981",
     "exception": false,
     "start_time": "2024-09-13T14:45:11.769369",
     "status": "completed"
    },
    "tags": []
   },
   "source": [
    "**make the support lower(0.2) to observe more rules**\n",
    "\n",
    "**but the confidence(>0.5) and Lift(>1) remains same**"
   ]
  },
  {
   "cell_type": "code",
   "execution_count": null,
   "id": "66e65222",
   "metadata": {
    "papermill": {
     "duration": 0.013893,
     "end_time": "2024-09-13T14:45:11.813657",
     "exception": false,
     "start_time": "2024-09-13T14:45:11.799764",
     "status": "completed"
    },
    "tags": []
   },
   "outputs": [],
   "source": []
  }
 ],
 "metadata": {
  "kaggle": {
   "accelerator": "none",
   "dataSources": [
    {
     "datasetId": 5689808,
     "sourceId": 9379465,
     "sourceType": "datasetVersion"
    }
   ],
   "dockerImageVersionId": 30761,
   "isGpuEnabled": false,
   "isInternetEnabled": true,
   "language": "python",
   "sourceType": "notebook"
  },
  "kernelspec": {
   "display_name": "Python 3",
   "language": "python",
   "name": "python3"
  },
  "language_info": {
   "codemirror_mode": {
    "name": "ipython",
    "version": 3
   },
   "file_extension": ".py",
   "mimetype": "text/x-python",
   "name": "python",
   "nbconvert_exporter": "python",
   "pygments_lexer": "ipython3",
   "version": "3.10.14"
  },
  "papermill": {
   "default_parameters": {},
   "duration": 6.17496,
   "end_time": "2024-09-13T14:45:12.452537",
   "environment_variables": {},
   "exception": null,
   "input_path": "__notebook__.ipynb",
   "output_path": "__notebook__.ipynb",
   "parameters": {},
   "start_time": "2024-09-13T14:45:06.277577",
   "version": "2.6.0"
  }
 },
 "nbformat": 4,
 "nbformat_minor": 5
}
